{
 "cells": [
  {
   "cell_type": "markdown",
   "id": "3d7SuLCDtcrU",
   "metadata": {
    "id": "3d7SuLCDtcrU"
   },
   "source": [
    "<div style=\"width: 100%; clear: both;\">\n",
    "    <div style=\"float: left; width: 50%;\">\n",
    "       <img src=\"https://www.uoc.edu/portal/system/modules/edu.uoc.presentations/resources/img/branding/logo-uoc-default.png\", align=\"left\">\n",
    "    </div>\n",
    "</div>\n",
    "\n",
    "<div style=\"float: right; width: 50%;\">\n",
    "    <p style=\"margin: 0; padding-top: 22px; text-align:right;\">22.403 · Programació per a la ciència de dades</p>\n",
    "    <p style=\"margin: 0; text-align:right;\">Grau en Ciència de Dades Aplicada</p>\n",
    "    <p style=\"margin: 0; text-align:right; padding-button: 100px;\">Estudis d'Informàtica, Multimèdia i Telecomunicació</p>\n",
    "</div>\n",
    "\n",
    "</div>\n",
    "<div style=\"width: 100%; clear: both;\">\n",
    "<div style=\"width:100%;\">&nbsp;</div>"
   ]
  },
  {
   "cell_type": "markdown",
   "id": "1da0e2c7",
   "metadata": {
    "id": "1da0e2c7"
   },
   "source": [
    "Programació per a la ciència de dades - PAC1\n",
    "============================\n",
    "\n",
    "En aquest Notebook trobareu un conjunt d'exercicis que conformen la primera activitat d'avaluació contínua (PAC) de l'assignatura.\n",
    "\n",
    "Per a cada exercici, tingueu en compte que:\n",
    "\n",
    "* **És necessari incloure comentaris** del vostre codi, que expliquin com heu implementat la solució del problema plantejat.\n",
    "* **És imprescindible** citar les referències consultades per realitzar l'activitat. Es valorarà que el codi proporcionat solucioni el problema proposat i també la qualitat del codi (comentaris, llegibilitat, claredat, ús de les estructures de dades adequades, bona nomenclatura de les variables i funcions, seguiment del PEP8, etc.).\n",
    "\n",
    "Veureu que cadascuna de les activitats té associada una puntuació, que indica el pes que té l'activitat sobre la nota de la PAC.\n",
    "\n",
    "A més, totes les activitats tenen una etiqueta, que indica els recursos necessaris per dur-la a terme. Hi ha tres possibles etiquetes:\n",
    "\n",
    "* <span style=\"font-family: Courier New; background-color: #82b74b; color: #000000; padding: 3px;\">SM</span> **Només materials**: les eines necessàries per realitzar l'activitat es poden trobar en els materials de l'assignatura (considerarem també els materials de l'assignatura Fonaments de Programació, així com les lectures obligatòries de material extern que s'indiquen en els notebooks).\n",
    "* <span style=\"font-family: Courier New; background-color: #ffcc5c; color: #000000; padding: 3px;\">EG</span> **Consulta externa guiada**: l'activitat pot requerir fer ús d'eines que no es troben en els materials de l'assignatura, però l'enunciat conté indicacions d'on o com trobar la informació addicional necessària per resoldre l'activitat.\n",
    "* <span style=\"font-family: Courier New; background-color: #f2ae72; color: #000000; padding: 3px;\">EI</span> **Consulta externa independent**: l'activitat pot requerir fer ús d'eines que no es troben en els materials de l'assignatura, i l'enunciat pot no incloure la descripció d'on o com trobar aquesta informació addicional. Serà necessari que l'estudiant busqui aquesta informació utilitzant els recursos que s'han explicat en l'assignatura.\n",
    "\n",
    "És important notar que aquestes etiquetes no indiquen el nivell de dificultat de l'exercici, sinó únicament la necessitat de consulta de documentació externa per a la seva resolució. A més, recordeu que les **etiquetes són informatives**, però podeu consultar referències externes sempre que ho desitgeu (encara que no s'indiqui explícitament) o potser podreu realitzar una activitat sense consultar cap tipus de documentació. Per exemple, per resoldre una activitat que només requereixi els materials de l'assignatura, podeu consultar referències externes si ho desitgeu, ja sigui tant per ajudar en la resolució com per ampliar coneixements.\n",
    "\n",
    "\n",
    "\n",
    "---\n",
    "\n",
    "## Abans de començar\n",
    "\n",
    "Llegiu atentament els paràgrafs que segueixen, relacionats amb l'originalitat en les activitats, abans de començar a treballar en la PAC. Si us sorgeix qualsevol dubte dirigiu-vos al professor col·laborador de l'assignatura abans de continuar amb l'activitat.\n",
    "\n",
    "<div class=\"alert alert-block alert-success\"> La manca d'originalitat es produeix quan en una activitat apareix contingut que no ha estat elaborat de forma individual per l'estudiant i no es referencia adequadament el seu origen. O bé quan, encara que el contingut extern estigui referenciat, aquest és tan extens que no és possible considerar l'estudiant l'autor o autora de l'activitat. <br /><br /> Així, alguns exemples de comportaments inadequats degut a manca d'originalitat són: <ol> <li>Crear la solució d'un exercici de la PAC en col·laboració entre diversos estudiants.</li> <li>Incloure un exercici de la PAC que utilitza codi trobat a internet sense citar la font.</li> <li>Compartir la vostra solució de la PAC amb altres estudiants de l'assignatura.</li> </ol> </div>\n",
    "\n",
    "## Instruccions de lliurament\n",
    "\n",
    "Per procedir a l'entrega de l'activitat és necessari realitzar els següents passos:\n",
    "\n",
    "1. Comproveu que el notebook s'executa correctament en Google Colaboratory. És important que abans d'entregar la vostra PAC us assegureu que la versió final del codi s'executa correctament en la seva totalitat. Per a això, es recomana fer una execució completa des de zero del notebook fent clic a <i>\"Entorn d'execució i executar totes\"</i>, i comprovant que totes les cel·les del notebook s'executen correctament.\n",
    "\n",
    "2. Confirmeu que sou els autors únics de la PAC i que aquesta inclou totes les cites a recursos externs que s'hagin utilitzat per elaborar-la. Amb la finalitat de confirmar que sou els autors únics de l'activitat, afegiu el vostre nom complet a la cel·la següent.\n",
    "\n",
    "3. Entregueu el notebook corresponent a la resolució de la PAC a través del Registre d'Avaluació Contínua de l'aula. Podeu descarregar el notebook mitjançant <i>\"Arxiu, descarregar i descarregar .ipynb\"</i>\n",
    "\n",
    "\n",
    "\n"
   ]
  },
  {
   "cell_type": "markdown",
   "id": "a9afaddc",
   "metadata": {
    "id": "a9afaddc"
   },
   "source": [
    "<div class=\"alert alert-block alert-warning\">Jo, **Robert Buj Gelonch**, confirmo que he elaborat de forma individual totes les activitats resoltes en aquesta PAC i que he inclòs les cites a totes les fonts externes que he utilitzat per resoldre les activitats. </div>"
   ]
  },
  {
   "cell_type": "markdown",
   "id": "42367960",
   "metadata": {
    "id": "42367960"
   },
   "source": [
    "\n",
    "## Type hints\n",
    "\n",
    "Us recomanem resoldre aquesta PAC utilitzant type hints. Podem entendre els type hints de Python com una solució formal per indicar estèticament el tipus de valor dins del codi Python. Us recomanem la visualització del següent [vídeo](https://www.youtube.com/watch?v=j0dy8Q9VIPk) per a una introducció als type hints en Python, i per entendre per què són interessants."
   ]
  },
  {
   "cell_type": "markdown",
   "id": "ab2db40d",
   "metadata": {
    "id": "ab2db40d"
   },
   "source": [
    "## Enunciat\n",
    "Els següents exercicis es realitzaran utilitzant el dataset people.csv proporcionat juntament amb la PAC. Cada fila representa informació d'una persona.\n",
    "\n",
    "Els camps del dataset són els següents:\n",
    "\n",
    "- User Id: Codi de la persona.\n",
    "- First Name: Nom de la persona.\n",
    "- Last Name: Cognom de la persona.\n",
    "- Sex: Sexe de la persona (Male o Female).\n",
    "- Email: Email de la persona.\n",
    "- Phone: Número de telèfon de la persona.\n",
    "- Date of birth: Data de naixement de la persona (YYYY-MM-DD)\n",
    "- Job Title: Professió de la persona.\n",
    "\n",
    "\n",
    "**IMPORTANT:** La càrrega del dataset s'ha de fer utilitzant rutes relatives, heu de carregar el fitxer tenint en compte que el vostre notebook es troba en una carpeta que conté la carpeta data/ i l'arxiu de dades corresponent.\n",
    "\n",
    "\n",
    "Només heu de carregar el fitxer una sola vegada en el primer exercici.\n"
   ]
  },
  {
   "cell_type": "markdown",
   "id": "dbc2d435",
   "metadata": {
    "id": "dbc2d435"
   },
   "source": [
    "## Exercici 1\n",
    "\n",
    "Carregueu el dataset `people.csv` de manera que obtingueu un objecte de tipus `DataFrame`.\n",
    "\n",
    "Una vegada carregat el dataset, resol les següents qüestions:\n",
    "\n",
    "1. Visualitza els primers 42 registres.  \n",
    "2. Converteix la columna `Date of birth` al format Dia/Mes/Any (`dd/mm/aaaa`).  \n",
    "3. Mostra quantes professions úniques hi ha.  \n",
    "4. Visualitza el títol de feina (`Job title`) més comuna.  \n",
    "5. Mostra quantes persones tenen el nom Paul.  \n",
    "6. Mostra el nombre de persones nascudes al gener.  \n",
    "\n",
    "**Pista 1:** Recordeu que podeu utilitzar llibreries com `pandas` per carregar el conjunt de dades de manera senzilla i obtenir un `DataFrame`.  \n",
    "\n",
    "**Pista 2:** El *type hint* d'un `DataFrame` és `pd.DataFrame`.  \n",
    "\n",
    "**Tots els exercicis s'han de resoldre a partir del `DataFrame` obtingut en finalitzar aquest exercici i no carregar-lo cada vegada que s'hagi d'utilitzar.**  \n",
    "\n",
    "<span style=\"font-family: Courier New; background-color: #82b74b; color: #000000; padding: 3px;\">SM</span> **(2 punts)**\n"
   ]
  },
  {
   "cell_type": "markdown",
   "id": "ASqynsGg7QdY",
   "metadata": {
    "id": "ASqynsGg7QdY"
   },
   "source": [
    "<div style=\"background-color: #fcf2f2; border-color: #dfb5b4; border-left: 5px solid #dfb5b4; padding: 0.5em;\">\n",
    "<strong>Solució</strong>\n",
    "</div>"
   ]
  },
  {
   "cell_type": "code",
   "execution_count": 1,
   "id": "8CiCZ3PvojJW",
   "metadata": {
    "colab": {
     "base_uri": "https://localhost:8080/"
    },
    "executionInfo": {
     "elapsed": 1163,
     "status": "ok",
     "timestamp": 1741074569068,
     "user": {
      "displayName": "Robert Buj",
      "userId": "02949197252302916494"
     },
     "user_tz": -60
    },
    "id": "8CiCZ3PvojJW",
    "outputId": "bd795861-5dd5-440f-e82e-81e1eb29b5cf"
   },
   "outputs": [],
   "source": [
    "import os\n",
    "\n",
    "if os.getenv(\"COLAB_RELEASE_TAG\"):\n",
    "    # munta la unitat de google drive i accedeix a la carpeta de l'activitat\n",
    "    from google.colab import drive\n",
    "    drive.mount('/content/drive')\n",
    "    %cd \"/content/drive/MyDrive/Colab Notebooks/Activity_1\"\n",
    "    # instal·la les dependencies\n",
    "    %pip install pycodestyle flake8 pycodestyle_magic"
   ]
  },
  {
   "cell_type": "code",
   "execution_count": 2,
   "id": "070ded2d",
   "metadata": {},
   "outputs": [],
   "source": [
    "%load_ext pycodestyle_magic\n",
    "%pycodestyle_on"
   ]
  },
  {
   "cell_type": "markdown",
   "id": "077de77a",
   "metadata": {},
   "source": []
  },
  {
   "cell_type": "code",
   "execution_count": 3,
   "id": "901fff98",
   "metadata": {
    "colab": {
     "base_uri": "https://localhost:8080/"
    },
    "executionInfo": {
     "elapsed": 1794,
     "status": "ok",
     "timestamp": 1741074570861,
     "user": {
      "displayName": "Robert Buj",
      "userId": "02949197252302916494"
     },
     "user_tz": -60
    },
    "id": "901fff98",
    "outputId": "b350088b-11f4-4d1d-fdd1-0beeb7330215"
   },
   "outputs": [
    {
     "name": "stdout",
     "output_type": "stream",
     "text": [
      "<class 'pandas.core.frame.DataFrame'>\n",
      "RangeIndex: 10000 entries, 0 to 9999\n",
      "Data columns (total 9 columns):\n",
      " #   Column         Non-Null Count  Dtype \n",
      "---  ------         --------------  ----- \n",
      " 0   Index          10000 non-null  int64 \n",
      " 1   User Id        10000 non-null  object\n",
      " 2   First Name     10000 non-null  object\n",
      " 3   Last Name      10000 non-null  object\n",
      " 4   Sex            10000 non-null  object\n",
      " 5   Email          10000 non-null  object\n",
      " 6   Phone          10000 non-null  object\n",
      " 7   Date of birth  10000 non-null  object\n",
      " 8   Job Title      10000 non-null  object\n",
      "dtypes: int64(1), object(8)\n",
      "memory usage: 703.3+ KB\n"
     ]
    }
   ],
   "source": [
    "# carregar el fitxer CSV\n",
    "import pandas as pd\n",
    "import chardet\n",
    "\n",
    "# llegeix el fitxer CSV en mode binari\n",
    "with open('data/people.csv', 'rb') as f:\n",
    "    data = f.read()\n",
    "\n",
    "# detecta la codificació mitjançant la biblioteca chardet\n",
    "encoding_result = chardet.detect(data)\n",
    "\n",
    "# recupera la importació de la codificació\n",
    "encoding = encoding_result['encoding']\n",
    "\n",
    "# obté el dataframe després de llegir el fitxer CSV amb pandas\n",
    "df = pd.read_csv('data/people.csv', sep=\",\", encoding=encoding)\n",
    "\n",
    "# mostra la informació del dataframe\n",
    "df.info()"
   ]
  },
  {
   "cell_type": "code",
   "execution_count": 4,
   "id": "2754e855",
   "metadata": {
    "colab": {
     "base_uri": "https://localhost:8080/",
     "height": 1000
    },
    "executionInfo": {
     "elapsed": 135,
     "status": "ok",
     "timestamp": 1741074570997,
     "user": {
      "displayName": "Robert Buj",
      "userId": "02949197252302916494"
     },
     "user_tz": -60
    },
    "id": "2754e855",
    "outputId": "f1954274-fc3c-4fd8-f59a-cf5f6282e164"
   },
   "outputs": [
    {
     "data": {
      "text/html": [
       "<div>\n",
       "<style scoped>\n",
       "    .dataframe tbody tr th:only-of-type {\n",
       "        vertical-align: middle;\n",
       "    }\n",
       "\n",
       "    .dataframe tbody tr th {\n",
       "        vertical-align: top;\n",
       "    }\n",
       "\n",
       "    .dataframe thead th {\n",
       "        text-align: right;\n",
       "    }\n",
       "</style>\n",
       "<table border=\"1\" class=\"dataframe\">\n",
       "  <thead>\n",
       "    <tr style=\"text-align: right;\">\n",
       "      <th></th>\n",
       "      <th>Index</th>\n",
       "      <th>User Id</th>\n",
       "      <th>First Name</th>\n",
       "      <th>Last Name</th>\n",
       "      <th>Sex</th>\n",
       "      <th>Email</th>\n",
       "      <th>Phone</th>\n",
       "      <th>Date of birth</th>\n",
       "      <th>Job Title</th>\n",
       "    </tr>\n",
       "  </thead>\n",
       "  <tbody>\n",
       "    <tr>\n",
       "      <th>0</th>\n",
       "      <td>1</td>\n",
       "      <td>5f10e9D33fC5f2b</td>\n",
       "      <td>Sara</td>\n",
       "      <td>Mcguire</td>\n",
       "      <td>Female</td>\n",
       "      <td>tsharp@example.net</td>\n",
       "      <td>(971)643-6089x9160</td>\n",
       "      <td>1921-08-17</td>\n",
       "      <td>Editor, commissioning</td>\n",
       "    </tr>\n",
       "    <tr>\n",
       "      <th>1</th>\n",
       "      <td>2</td>\n",
       "      <td>751cD1cbF77e005</td>\n",
       "      <td>Alisha</td>\n",
       "      <td>Hebert</td>\n",
       "      <td>Male</td>\n",
       "      <td>vincentgarrett@example.net</td>\n",
       "      <td>+1-114-355-1841x78347</td>\n",
       "      <td>1969-06-28</td>\n",
       "      <td>Broadcast engineer</td>\n",
       "    </tr>\n",
       "    <tr>\n",
       "      <th>2</th>\n",
       "      <td>3</td>\n",
       "      <td>DcEFDB2D2e62bF9</td>\n",
       "      <td>Gwendolyn</td>\n",
       "      <td>Sheppard</td>\n",
       "      <td>Male</td>\n",
       "      <td>mercadojonathan@example.com</td>\n",
       "      <td>9017807728</td>\n",
       "      <td>1915-09-25</td>\n",
       "      <td>Industrial buyer</td>\n",
       "    </tr>\n",
       "    <tr>\n",
       "      <th>3</th>\n",
       "      <td>4</td>\n",
       "      <td>C88661E02EEDA9e</td>\n",
       "      <td>Kristine</td>\n",
       "      <td>Mccann</td>\n",
       "      <td>Female</td>\n",
       "      <td>lindsay55@example.com</td>\n",
       "      <td>+1-607-333-9911x59088</td>\n",
       "      <td>1978-07-27</td>\n",
       "      <td>Multimedia specialist</td>\n",
       "    </tr>\n",
       "    <tr>\n",
       "      <th>4</th>\n",
       "      <td>5</td>\n",
       "      <td>fafF1aBDebaB2a6</td>\n",
       "      <td>Bobby</td>\n",
       "      <td>Pittman</td>\n",
       "      <td>Female</td>\n",
       "      <td>blevinsmorgan@example.com</td>\n",
       "      <td>3739847538</td>\n",
       "      <td>1989-11-17</td>\n",
       "      <td>Planning and development surveyor</td>\n",
       "    </tr>\n",
       "    <tr>\n",
       "      <th>5</th>\n",
       "      <td>6</td>\n",
       "      <td>BdDb6C8Af309202</td>\n",
       "      <td>Calvin</td>\n",
       "      <td>Ramsey</td>\n",
       "      <td>Female</td>\n",
       "      <td>loretta85@example.com</td>\n",
       "      <td>001-314-829-5014x1792</td>\n",
       "      <td>2017-08-31</td>\n",
       "      <td>Therapeutic radiographer</td>\n",
       "    </tr>\n",
       "    <tr>\n",
       "      <th>6</th>\n",
       "      <td>7</td>\n",
       "      <td>FCdfFf08196f633</td>\n",
       "      <td>Collin</td>\n",
       "      <td>Allison</td>\n",
       "      <td>Male</td>\n",
       "      <td>yvaughn@example.net</td>\n",
       "      <td>(314)591-7413</td>\n",
       "      <td>1979-11-21</td>\n",
       "      <td>Administrator</td>\n",
       "    </tr>\n",
       "    <tr>\n",
       "      <th>7</th>\n",
       "      <td>8</td>\n",
       "      <td>356279dAa0F7CbD</td>\n",
       "      <td>Nicholas</td>\n",
       "      <td>Branch</td>\n",
       "      <td>Male</td>\n",
       "      <td>greerjimmy@example.net</td>\n",
       "      <td>+1-667-666-5867</td>\n",
       "      <td>2006-01-21</td>\n",
       "      <td>Fisheries officer</td>\n",
       "    </tr>\n",
       "    <tr>\n",
       "      <th>8</th>\n",
       "      <td>9</td>\n",
       "      <td>F563CcbFBfEcf5a</td>\n",
       "      <td>Emma</td>\n",
       "      <td>Robinson</td>\n",
       "      <td>Female</td>\n",
       "      <td>charleshiggins@example.org</td>\n",
       "      <td>166-234-6882x7457</td>\n",
       "      <td>2009-03-19</td>\n",
       "      <td>Haematologist</td>\n",
       "    </tr>\n",
       "    <tr>\n",
       "      <th>9</th>\n",
       "      <td>10</td>\n",
       "      <td>f2dceFc00F62542</td>\n",
       "      <td>Pedro</td>\n",
       "      <td>Cordova</td>\n",
       "      <td>Male</td>\n",
       "      <td>leslie08@example.com</td>\n",
       "      <td>(389)824-3204x8287</td>\n",
       "      <td>2008-06-17</td>\n",
       "      <td>Phytotherapist</td>\n",
       "    </tr>\n",
       "    <tr>\n",
       "      <th>10</th>\n",
       "      <td>11</td>\n",
       "      <td>FEf0Cc496EB4bC0</td>\n",
       "      <td>Jean</td>\n",
       "      <td>Aguilar</td>\n",
       "      <td>Male</td>\n",
       "      <td>raymond24@example.org</td>\n",
       "      <td>(285)029-1604x5466</td>\n",
       "      <td>1978-10-28</td>\n",
       "      <td>Engineer, control and instrumentation</td>\n",
       "    </tr>\n",
       "    <tr>\n",
       "      <th>11</th>\n",
       "      <td>12</td>\n",
       "      <td>Af087410aB0c186</td>\n",
       "      <td>Dwayne</td>\n",
       "      <td>Hutchinson</td>\n",
       "      <td>Female</td>\n",
       "      <td>preston28@example.net</td>\n",
       "      <td>(233)811-1749x417</td>\n",
       "      <td>1914-06-22</td>\n",
       "      <td>Teacher, early years/pre</td>\n",
       "    </tr>\n",
       "    <tr>\n",
       "      <th>12</th>\n",
       "      <td>13</td>\n",
       "      <td>057EE455E68fe9E</td>\n",
       "      <td>Bradley</td>\n",
       "      <td>Velazquez</td>\n",
       "      <td>Male</td>\n",
       "      <td>joycejay@example.net</td>\n",
       "      <td>(831)049-2030</td>\n",
       "      <td>1906-12-23</td>\n",
       "      <td>Airline pilot</td>\n",
       "    </tr>\n",
       "    <tr>\n",
       "      <th>13</th>\n",
       "      <td>14</td>\n",
       "      <td>BEA2b99B1efBFAA</td>\n",
       "      <td>Samantha</td>\n",
       "      <td>Moon</td>\n",
       "      <td>Male</td>\n",
       "      <td>wesleymullins@example.net</td>\n",
       "      <td>7788378816</td>\n",
       "      <td>1978-06-21</td>\n",
       "      <td>Intelligence analyst</td>\n",
       "    </tr>\n",
       "    <tr>\n",
       "      <th>14</th>\n",
       "      <td>15</td>\n",
       "      <td>33730caFF13Ff4F</td>\n",
       "      <td>Clayton</td>\n",
       "      <td>Erickson</td>\n",
       "      <td>Male</td>\n",
       "      <td>nterry@example.net</td>\n",
       "      <td>990-374-0521x33156</td>\n",
       "      <td>1959-02-07</td>\n",
       "      <td>Paediatric nurse</td>\n",
       "    </tr>\n",
       "    <tr>\n",
       "      <th>15</th>\n",
       "      <td>16</td>\n",
       "      <td>Fec6b46586ad5ab</td>\n",
       "      <td>Bradley</td>\n",
       "      <td>Bright</td>\n",
       "      <td>Female</td>\n",
       "      <td>devinherman@example.net</td>\n",
       "      <td>2534420151</td>\n",
       "      <td>1992-01-27</td>\n",
       "      <td>Fitness centre manager</td>\n",
       "    </tr>\n",
       "    <tr>\n",
       "      <th>16</th>\n",
       "      <td>17</td>\n",
       "      <td>d8CF9ED8c6E5b0b</td>\n",
       "      <td>Ernest</td>\n",
       "      <td>Maynard</td>\n",
       "      <td>Male</td>\n",
       "      <td>tommywoodard@example.com</td>\n",
       "      <td>355-863-2311x6315</td>\n",
       "      <td>2017-11-23</td>\n",
       "      <td>Accountant, chartered certified</td>\n",
       "    </tr>\n",
       "    <tr>\n",
       "      <th>17</th>\n",
       "      <td>18</td>\n",
       "      <td>b82C14f184d0cf6</td>\n",
       "      <td>Joe</td>\n",
       "      <td>Larsen</td>\n",
       "      <td>Female</td>\n",
       "      <td>brianna43@example.org</td>\n",
       "      <td>(566)667-8566x109</td>\n",
       "      <td>2009-06-18</td>\n",
       "      <td>Geographical information systems officer</td>\n",
       "    </tr>\n",
       "    <tr>\n",
       "      <th>18</th>\n",
       "      <td>19</td>\n",
       "      <td>F8E52fAaA87Cb2D</td>\n",
       "      <td>Alfred</td>\n",
       "      <td>Barrera</td>\n",
       "      <td>Female</td>\n",
       "      <td>kristina40@example.net</td>\n",
       "      <td>4735530004</td>\n",
       "      <td>1924-11-13</td>\n",
       "      <td>Administrator, charities/voluntary organisations</td>\n",
       "    </tr>\n",
       "    <tr>\n",
       "      <th>19</th>\n",
       "      <td>20</td>\n",
       "      <td>aaB0b03cFED1CeE</td>\n",
       "      <td>Jon</td>\n",
       "      <td>Wagner</td>\n",
       "      <td>Female</td>\n",
       "      <td>meagan99@example.org</td>\n",
       "      <td>001-940-671-0693x345</td>\n",
       "      <td>1934-01-06</td>\n",
       "      <td>Engineer, aeronautical</td>\n",
       "    </tr>\n",
       "    <tr>\n",
       "      <th>20</th>\n",
       "      <td>21</td>\n",
       "      <td>dFB1FaeB5915Dee</td>\n",
       "      <td>Glen</td>\n",
       "      <td>Calderon</td>\n",
       "      <td>Male</td>\n",
       "      <td>randystephenson@example.net</td>\n",
       "      <td>4890361487</td>\n",
       "      <td>1944-09-16</td>\n",
       "      <td>Research officer, government</td>\n",
       "    </tr>\n",
       "    <tr>\n",
       "      <th>21</th>\n",
       "      <td>22</td>\n",
       "      <td>983Dd56BB6Bbddb</td>\n",
       "      <td>Marco</td>\n",
       "      <td>Sharp</td>\n",
       "      <td>Male</td>\n",
       "      <td>cmcclure@example.net</td>\n",
       "      <td>074-415-1149</td>\n",
       "      <td>1944-04-09</td>\n",
       "      <td>Retail buyer</td>\n",
       "    </tr>\n",
       "    <tr>\n",
       "      <th>22</th>\n",
       "      <td>23</td>\n",
       "      <td>Ccee761Bfb157db</td>\n",
       "      <td>Jermaine</td>\n",
       "      <td>Liu</td>\n",
       "      <td>Male</td>\n",
       "      <td>tristanpatterson@example.net</td>\n",
       "      <td>001-887-131-9735x6172</td>\n",
       "      <td>1913-09-20</td>\n",
       "      <td>Health promotion specialist</td>\n",
       "    </tr>\n",
       "    <tr>\n",
       "      <th>23</th>\n",
       "      <td>24</td>\n",
       "      <td>F0e6bBAfFAeE76E</td>\n",
       "      <td>Cindy</td>\n",
       "      <td>Haynes</td>\n",
       "      <td>Female</td>\n",
       "      <td>sonyamoyer@example.net</td>\n",
       "      <td>+1-166-565-3614x575</td>\n",
       "      <td>2020-12-17</td>\n",
       "      <td>Scientist, physiological</td>\n",
       "    </tr>\n",
       "    <tr>\n",
       "      <th>24</th>\n",
       "      <td>25</td>\n",
       "      <td>f628DfBb03CBD1F</td>\n",
       "      <td>Meghan</td>\n",
       "      <td>Blanchard</td>\n",
       "      <td>Male</td>\n",
       "      <td>smejia@example.org</td>\n",
       "      <td>+1-188-201-3028x13440</td>\n",
       "      <td>1927-08-24</td>\n",
       "      <td>Occupational therapist</td>\n",
       "    </tr>\n",
       "    <tr>\n",
       "      <th>25</th>\n",
       "      <td>26</td>\n",
       "      <td>39Aded2dba9D2dA</td>\n",
       "      <td>Julie</td>\n",
       "      <td>Delacruz</td>\n",
       "      <td>Male</td>\n",
       "      <td>jillian34@example.net</td>\n",
       "      <td>903.237.1120x705</td>\n",
       "      <td>1941-04-10</td>\n",
       "      <td>Television production assistant</td>\n",
       "    </tr>\n",
       "    <tr>\n",
       "      <th>26</th>\n",
       "      <td>27</td>\n",
       "      <td>ab6F7E1f5F3f4cb</td>\n",
       "      <td>Jackie</td>\n",
       "      <td>Munoz</td>\n",
       "      <td>Male</td>\n",
       "      <td>villarrealgilbert@example.org</td>\n",
       "      <td>+1-460-150-7613</td>\n",
       "      <td>1969-08-04</td>\n",
       "      <td>Development worker, community</td>\n",
       "    </tr>\n",
       "    <tr>\n",
       "      <th>27</th>\n",
       "      <td>28</td>\n",
       "      <td>Bbe2B2Dcf652e55</td>\n",
       "      <td>Maureen</td>\n",
       "      <td>Vasquez</td>\n",
       "      <td>Female</td>\n",
       "      <td>chogan@example.com</td>\n",
       "      <td>645.665.5931</td>\n",
       "      <td>1995-04-26</td>\n",
       "      <td>Journalist, magazine</td>\n",
       "    </tr>\n",
       "    <tr>\n",
       "      <th>28</th>\n",
       "      <td>29</td>\n",
       "      <td>CBCb48f7602b113</td>\n",
       "      <td>Theresa</td>\n",
       "      <td>Riddle</td>\n",
       "      <td>Male</td>\n",
       "      <td>jasminlowe@example.org</td>\n",
       "      <td>(672)634-3364</td>\n",
       "      <td>1929-09-27</td>\n",
       "      <td>Therapeutic radiographer</td>\n",
       "    </tr>\n",
       "    <tr>\n",
       "      <th>29</th>\n",
       "      <td>30</td>\n",
       "      <td>AAF6e4Cec5f1dEe</td>\n",
       "      <td>Jenny</td>\n",
       "      <td>Wiley</td>\n",
       "      <td>Female</td>\n",
       "      <td>youngbrandon@example.net</td>\n",
       "      <td>507-684-0331</td>\n",
       "      <td>2004-10-07</td>\n",
       "      <td>Surveyor, building control</td>\n",
       "    </tr>\n",
       "    <tr>\n",
       "      <th>30</th>\n",
       "      <td>31</td>\n",
       "      <td>943DafaDB3cBb8f</td>\n",
       "      <td>Kirsten</td>\n",
       "      <td>Bailey</td>\n",
       "      <td>Female</td>\n",
       "      <td>donaldsonomar@example.org</td>\n",
       "      <td>719.072.3811x9483</td>\n",
       "      <td>1922-01-26</td>\n",
       "      <td>Engineer, aeronautical</td>\n",
       "    </tr>\n",
       "    <tr>\n",
       "      <th>31</th>\n",
       "      <td>32</td>\n",
       "      <td>d82e9C3dE3bca25</td>\n",
       "      <td>Melody</td>\n",
       "      <td>Wiggins</td>\n",
       "      <td>Male</td>\n",
       "      <td>mackrachael@example.net</td>\n",
       "      <td>138-424-2414x284</td>\n",
       "      <td>1938-05-08</td>\n",
       "      <td>Fitness centre manager</td>\n",
       "    </tr>\n",
       "    <tr>\n",
       "      <th>32</th>\n",
       "      <td>33</td>\n",
       "      <td>FC8993D4eea0fbF</td>\n",
       "      <td>Ruth</td>\n",
       "      <td>Bolton</td>\n",
       "      <td>Female</td>\n",
       "      <td>newtonbridget@example.net</td>\n",
       "      <td>625-325-5178</td>\n",
       "      <td>1928-03-20</td>\n",
       "      <td>Air cabin crew</td>\n",
       "    </tr>\n",
       "    <tr>\n",
       "      <th>33</th>\n",
       "      <td>34</td>\n",
       "      <td>6Fc6eD447FD79f2</td>\n",
       "      <td>Jacqueline</td>\n",
       "      <td>Frederick</td>\n",
       "      <td>Male</td>\n",
       "      <td>collin32@example.com</td>\n",
       "      <td>001-258-289-4822x430</td>\n",
       "      <td>2010-10-04</td>\n",
       "      <td>Animal nutritionist</td>\n",
       "    </tr>\n",
       "    <tr>\n",
       "      <th>34</th>\n",
       "      <td>35</td>\n",
       "      <td>0F0cb8FD3a9D664</td>\n",
       "      <td>Theresa</td>\n",
       "      <td>Gilmore</td>\n",
       "      <td>Female</td>\n",
       "      <td>gmerritt@example.net</td>\n",
       "      <td>167.275.8072x1394</td>\n",
       "      <td>2019-08-26</td>\n",
       "      <td>Broadcast journalist</td>\n",
       "    </tr>\n",
       "    <tr>\n",
       "      <th>35</th>\n",
       "      <td>36</td>\n",
       "      <td>Cd78a54fdD9Cd09</td>\n",
       "      <td>Stanley</td>\n",
       "      <td>Underwood</td>\n",
       "      <td>Female</td>\n",
       "      <td>ravenbecker@example.com</td>\n",
       "      <td>001-718-046-2819x96662</td>\n",
       "      <td>1931-09-26</td>\n",
       "      <td>Web designer</td>\n",
       "    </tr>\n",
       "    <tr>\n",
       "      <th>36</th>\n",
       "      <td>37</td>\n",
       "      <td>a1a3C9bAba7ffC6</td>\n",
       "      <td>Brandy</td>\n",
       "      <td>Heath</td>\n",
       "      <td>Female</td>\n",
       "      <td>pcarey@example.com</td>\n",
       "      <td>347.257.0051</td>\n",
       "      <td>2005-06-15</td>\n",
       "      <td>Teacher, adult education</td>\n",
       "    </tr>\n",
       "    <tr>\n",
       "      <th>37</th>\n",
       "      <td>38</td>\n",
       "      <td>C0610bd81CF4a26</td>\n",
       "      <td>Terrence</td>\n",
       "      <td>Tucker</td>\n",
       "      <td>Male</td>\n",
       "      <td>rmcdaniel@example.com</td>\n",
       "      <td>+1-248-750-1154</td>\n",
       "      <td>2019-05-21</td>\n",
       "      <td>Retail banker</td>\n",
       "    </tr>\n",
       "    <tr>\n",
       "      <th>38</th>\n",
       "      <td>39</td>\n",
       "      <td>Cae1Bf83A0EE8Fb</td>\n",
       "      <td>Mary</td>\n",
       "      <td>Ferguson</td>\n",
       "      <td>Female</td>\n",
       "      <td>vrobinson@example.com</td>\n",
       "      <td>(828)736-9849x305</td>\n",
       "      <td>1941-12-13</td>\n",
       "      <td>Restaurant manager</td>\n",
       "    </tr>\n",
       "    <tr>\n",
       "      <th>39</th>\n",
       "      <td>40</td>\n",
       "      <td>9f1fFDfC68A4ab0</td>\n",
       "      <td>Rachel</td>\n",
       "      <td>Rice</td>\n",
       "      <td>Female</td>\n",
       "      <td>chrisware@example.com</td>\n",
       "      <td>711-766-7143</td>\n",
       "      <td>1952-02-28</td>\n",
       "      <td>Building surveyor</td>\n",
       "    </tr>\n",
       "    <tr>\n",
       "      <th>40</th>\n",
       "      <td>41</td>\n",
       "      <td>4d7Bcb4f3beA01c</td>\n",
       "      <td>Allison</td>\n",
       "      <td>Clay</td>\n",
       "      <td>Female</td>\n",
       "      <td>orrangie@example.net</td>\n",
       "      <td>571-027-5392x52373</td>\n",
       "      <td>1949-10-05</td>\n",
       "      <td>Chemist, analytical</td>\n",
       "    </tr>\n",
       "    <tr>\n",
       "      <th>41</th>\n",
       "      <td>42</td>\n",
       "      <td>433902DadEEEC75</td>\n",
       "      <td>Tom</td>\n",
       "      <td>Rivas</td>\n",
       "      <td>Male</td>\n",
       "      <td>guyayers@example.org</td>\n",
       "      <td>+1-382-207-6922</td>\n",
       "      <td>2019-05-16</td>\n",
       "      <td>Medical technical officer</td>\n",
       "    </tr>\n",
       "  </tbody>\n",
       "</table>\n",
       "</div>"
      ],
      "text/plain": [
       "    Index          User Id  First Name   Last Name     Sex  \\\n",
       "0       1  5f10e9D33fC5f2b        Sara     Mcguire  Female   \n",
       "1       2  751cD1cbF77e005      Alisha      Hebert    Male   \n",
       "2       3  DcEFDB2D2e62bF9   Gwendolyn    Sheppard    Male   \n",
       "3       4  C88661E02EEDA9e    Kristine      Mccann  Female   \n",
       "4       5  fafF1aBDebaB2a6       Bobby     Pittman  Female   \n",
       "5       6  BdDb6C8Af309202      Calvin      Ramsey  Female   \n",
       "6       7  FCdfFf08196f633      Collin     Allison    Male   \n",
       "7       8  356279dAa0F7CbD    Nicholas      Branch    Male   \n",
       "8       9  F563CcbFBfEcf5a        Emma    Robinson  Female   \n",
       "9      10  f2dceFc00F62542       Pedro     Cordova    Male   \n",
       "10     11  FEf0Cc496EB4bC0        Jean     Aguilar    Male   \n",
       "11     12  Af087410aB0c186      Dwayne  Hutchinson  Female   \n",
       "12     13  057EE455E68fe9E     Bradley   Velazquez    Male   \n",
       "13     14  BEA2b99B1efBFAA    Samantha        Moon    Male   \n",
       "14     15  33730caFF13Ff4F     Clayton    Erickson    Male   \n",
       "15     16  Fec6b46586ad5ab     Bradley      Bright  Female   \n",
       "16     17  d8CF9ED8c6E5b0b      Ernest     Maynard    Male   \n",
       "17     18  b82C14f184d0cf6         Joe      Larsen  Female   \n",
       "18     19  F8E52fAaA87Cb2D      Alfred     Barrera  Female   \n",
       "19     20  aaB0b03cFED1CeE         Jon      Wagner  Female   \n",
       "20     21  dFB1FaeB5915Dee        Glen    Calderon    Male   \n",
       "21     22  983Dd56BB6Bbddb       Marco       Sharp    Male   \n",
       "22     23  Ccee761Bfb157db    Jermaine         Liu    Male   \n",
       "23     24  F0e6bBAfFAeE76E       Cindy      Haynes  Female   \n",
       "24     25  f628DfBb03CBD1F      Meghan   Blanchard    Male   \n",
       "25     26  39Aded2dba9D2dA       Julie    Delacruz    Male   \n",
       "26     27  ab6F7E1f5F3f4cb      Jackie       Munoz    Male   \n",
       "27     28  Bbe2B2Dcf652e55     Maureen     Vasquez  Female   \n",
       "28     29  CBCb48f7602b113     Theresa      Riddle    Male   \n",
       "29     30  AAF6e4Cec5f1dEe       Jenny       Wiley  Female   \n",
       "30     31  943DafaDB3cBb8f     Kirsten      Bailey  Female   \n",
       "31     32  d82e9C3dE3bca25      Melody     Wiggins    Male   \n",
       "32     33  FC8993D4eea0fbF        Ruth      Bolton  Female   \n",
       "33     34  6Fc6eD447FD79f2  Jacqueline   Frederick    Male   \n",
       "34     35  0F0cb8FD3a9D664     Theresa     Gilmore  Female   \n",
       "35     36  Cd78a54fdD9Cd09     Stanley   Underwood  Female   \n",
       "36     37  a1a3C9bAba7ffC6      Brandy       Heath  Female   \n",
       "37     38  C0610bd81CF4a26    Terrence      Tucker    Male   \n",
       "38     39  Cae1Bf83A0EE8Fb        Mary    Ferguson  Female   \n",
       "39     40  9f1fFDfC68A4ab0      Rachel        Rice  Female   \n",
       "40     41  4d7Bcb4f3beA01c     Allison        Clay  Female   \n",
       "41     42  433902DadEEEC75         Tom       Rivas    Male   \n",
       "\n",
       "                            Email                   Phone Date of birth  \\\n",
       "0              tsharp@example.net      (971)643-6089x9160    1921-08-17   \n",
       "1      vincentgarrett@example.net   +1-114-355-1841x78347    1969-06-28   \n",
       "2     mercadojonathan@example.com              9017807728    1915-09-25   \n",
       "3           lindsay55@example.com   +1-607-333-9911x59088    1978-07-27   \n",
       "4       blevinsmorgan@example.com              3739847538    1989-11-17   \n",
       "5           loretta85@example.com   001-314-829-5014x1792    2017-08-31   \n",
       "6             yvaughn@example.net           (314)591-7413    1979-11-21   \n",
       "7          greerjimmy@example.net         +1-667-666-5867    2006-01-21   \n",
       "8      charleshiggins@example.org       166-234-6882x7457    2009-03-19   \n",
       "9            leslie08@example.com      (389)824-3204x8287    2008-06-17   \n",
       "10          raymond24@example.org      (285)029-1604x5466    1978-10-28   \n",
       "11          preston28@example.net       (233)811-1749x417    1914-06-22   \n",
       "12           joycejay@example.net           (831)049-2030    1906-12-23   \n",
       "13      wesleymullins@example.net              7788378816    1978-06-21   \n",
       "14             nterry@example.net      990-374-0521x33156    1959-02-07   \n",
       "15        devinherman@example.net              2534420151    1992-01-27   \n",
       "16       tommywoodard@example.com       355-863-2311x6315    2017-11-23   \n",
       "17          brianna43@example.org       (566)667-8566x109    2009-06-18   \n",
       "18         kristina40@example.net              4735530004    1924-11-13   \n",
       "19           meagan99@example.org    001-940-671-0693x345    1934-01-06   \n",
       "20    randystephenson@example.net              4890361487    1944-09-16   \n",
       "21           cmcclure@example.net            074-415-1149    1944-04-09   \n",
       "22   tristanpatterson@example.net   001-887-131-9735x6172    1913-09-20   \n",
       "23         sonyamoyer@example.net     +1-166-565-3614x575    2020-12-17   \n",
       "24             smejia@example.org   +1-188-201-3028x13440    1927-08-24   \n",
       "25          jillian34@example.net        903.237.1120x705    1941-04-10   \n",
       "26  villarrealgilbert@example.org         +1-460-150-7613    1969-08-04   \n",
       "27             chogan@example.com            645.665.5931    1995-04-26   \n",
       "28         jasminlowe@example.org           (672)634-3364    1929-09-27   \n",
       "29       youngbrandon@example.net            507-684-0331    2004-10-07   \n",
       "30      donaldsonomar@example.org       719.072.3811x9483    1922-01-26   \n",
       "31        mackrachael@example.net        138-424-2414x284    1938-05-08   \n",
       "32      newtonbridget@example.net            625-325-5178    1928-03-20   \n",
       "33           collin32@example.com    001-258-289-4822x430    2010-10-04   \n",
       "34           gmerritt@example.net       167.275.8072x1394    2019-08-26   \n",
       "35        ravenbecker@example.com  001-718-046-2819x96662    1931-09-26   \n",
       "36             pcarey@example.com            347.257.0051    2005-06-15   \n",
       "37          rmcdaniel@example.com         +1-248-750-1154    2019-05-21   \n",
       "38          vrobinson@example.com       (828)736-9849x305    1941-12-13   \n",
       "39          chrisware@example.com            711-766-7143    1952-02-28   \n",
       "40           orrangie@example.net      571-027-5392x52373    1949-10-05   \n",
       "41           guyayers@example.org         +1-382-207-6922    2019-05-16   \n",
       "\n",
       "                                           Job Title  \n",
       "0                              Editor, commissioning  \n",
       "1                                 Broadcast engineer  \n",
       "2                                   Industrial buyer  \n",
       "3                              Multimedia specialist  \n",
       "4                  Planning and development surveyor  \n",
       "5                           Therapeutic radiographer  \n",
       "6                                      Administrator  \n",
       "7                                  Fisheries officer  \n",
       "8                                      Haematologist  \n",
       "9                                     Phytotherapist  \n",
       "10             Engineer, control and instrumentation  \n",
       "11                          Teacher, early years/pre  \n",
       "12                                     Airline pilot  \n",
       "13                              Intelligence analyst  \n",
       "14                                  Paediatric nurse  \n",
       "15                            Fitness centre manager  \n",
       "16                   Accountant, chartered certified  \n",
       "17          Geographical information systems officer  \n",
       "18  Administrator, charities/voluntary organisations  \n",
       "19                            Engineer, aeronautical  \n",
       "20                      Research officer, government  \n",
       "21                                      Retail buyer  \n",
       "22                       Health promotion specialist  \n",
       "23                          Scientist, physiological  \n",
       "24                            Occupational therapist  \n",
       "25                   Television production assistant  \n",
       "26                     Development worker, community  \n",
       "27                              Journalist, magazine  \n",
       "28                          Therapeutic radiographer  \n",
       "29                        Surveyor, building control  \n",
       "30                            Engineer, aeronautical  \n",
       "31                            Fitness centre manager  \n",
       "32                                    Air cabin crew  \n",
       "33                               Animal nutritionist  \n",
       "34                              Broadcast journalist  \n",
       "35                                      Web designer  \n",
       "36                          Teacher, adult education  \n",
       "37                                     Retail banker  \n",
       "38                                Restaurant manager  \n",
       "39                                 Building surveyor  \n",
       "40                               Chemist, analytical  \n",
       "41                         Medical technical officer  "
      ]
     },
     "execution_count": 4,
     "metadata": {},
     "output_type": "execute_result"
    }
   ],
   "source": [
    "# 1.1 visualitza els primers 42 registres\n",
    "df.head(42)"
   ]
  },
  {
   "cell_type": "code",
   "execution_count": 5,
   "id": "qdtuIp_JuTMR",
   "metadata": {
    "colab": {
     "base_uri": "https://localhost:8080/",
     "height": 206
    },
    "executionInfo": {
     "elapsed": 142,
     "status": "ok",
     "timestamp": 1741074571140,
     "user": {
      "displayName": "Robert Buj",
      "userId": "02949197252302916494"
     },
     "user_tz": -60
    },
    "id": "qdtuIp_JuTMR",
    "outputId": "9ce4e4b2-ce95-4ee6-d5d8-1236602e4eb7"
   },
   "outputs": [
    {
     "data": {
      "text/html": [
       "<div>\n",
       "<style scoped>\n",
       "    .dataframe tbody tr th:only-of-type {\n",
       "        vertical-align: middle;\n",
       "    }\n",
       "\n",
       "    .dataframe tbody tr th {\n",
       "        vertical-align: top;\n",
       "    }\n",
       "\n",
       "    .dataframe thead th {\n",
       "        text-align: right;\n",
       "    }\n",
       "</style>\n",
       "<table border=\"1\" class=\"dataframe\">\n",
       "  <thead>\n",
       "    <tr style=\"text-align: right;\">\n",
       "      <th></th>\n",
       "      <th>Index</th>\n",
       "      <th>User Id</th>\n",
       "      <th>First Name</th>\n",
       "      <th>Last Name</th>\n",
       "      <th>Sex</th>\n",
       "      <th>Email</th>\n",
       "      <th>Phone</th>\n",
       "      <th>Date of birth</th>\n",
       "      <th>Job Title</th>\n",
       "    </tr>\n",
       "  </thead>\n",
       "  <tbody>\n",
       "    <tr>\n",
       "      <th>9995</th>\n",
       "      <td>9996</td>\n",
       "      <td>D66F0e4EdFc35e6</td>\n",
       "      <td>Tina</td>\n",
       "      <td>Sherman</td>\n",
       "      <td>Male</td>\n",
       "      <td>bartlettcolleen@example.org</td>\n",
       "      <td>(455)476-4044x5755</td>\n",
       "      <td>28/07/1974</td>\n",
       "      <td>Scientist, physiological</td>\n",
       "    </tr>\n",
       "    <tr>\n",
       "      <th>9996</th>\n",
       "      <td>9997</td>\n",
       "      <td>c753d8B9F5b6054</td>\n",
       "      <td>Earl</td>\n",
       "      <td>Jennings</td>\n",
       "      <td>Female</td>\n",
       "      <td>andreabenton@example.com</td>\n",
       "      <td>009.056.6505</td>\n",
       "      <td>20/08/1932</td>\n",
       "      <td>Warehouse manager</td>\n",
       "    </tr>\n",
       "    <tr>\n",
       "      <th>9997</th>\n",
       "      <td>9998</td>\n",
       "      <td>Fb2c7daAdD82dAE</td>\n",
       "      <td>Ellen</td>\n",
       "      <td>Dominguez</td>\n",
       "      <td>Female</td>\n",
       "      <td>michaelayoder@example.net</td>\n",
       "      <td>409-428-4297x469</td>\n",
       "      <td>06/06/1966</td>\n",
       "      <td>Lawyer</td>\n",
       "    </tr>\n",
       "    <tr>\n",
       "      <th>9998</th>\n",
       "      <td>9999</td>\n",
       "      <td>34D88Ffc743Ca5B</td>\n",
       "      <td>Emma</td>\n",
       "      <td>Clark</td>\n",
       "      <td>Male</td>\n",
       "      <td>pstrickland@example.com</td>\n",
       "      <td>849-868-8653</td>\n",
       "      <td>09/05/1907</td>\n",
       "      <td>Accounting technician</td>\n",
       "    </tr>\n",
       "    <tr>\n",
       "      <th>9999</th>\n",
       "      <td>10000</td>\n",
       "      <td>82D540ce0BE556f</td>\n",
       "      <td>Katrina</td>\n",
       "      <td>Schwartz</td>\n",
       "      <td>Female</td>\n",
       "      <td>andres56@example.org</td>\n",
       "      <td>001-874-330-5546x16770</td>\n",
       "      <td>14/08/1935</td>\n",
       "      <td>Drilling engineer</td>\n",
       "    </tr>\n",
       "  </tbody>\n",
       "</table>\n",
       "</div>"
      ],
      "text/plain": [
       "      Index          User Id First Name  Last Name     Sex  \\\n",
       "9995   9996  D66F0e4EdFc35e6       Tina    Sherman    Male   \n",
       "9996   9997  c753d8B9F5b6054       Earl   Jennings  Female   \n",
       "9997   9998  Fb2c7daAdD82dAE      Ellen  Dominguez  Female   \n",
       "9998   9999  34D88Ffc743Ca5B       Emma      Clark    Male   \n",
       "9999  10000  82D540ce0BE556f    Katrina   Schwartz  Female   \n",
       "\n",
       "                            Email                   Phone Date of birth  \\\n",
       "9995  bartlettcolleen@example.org      (455)476-4044x5755    28/07/1974   \n",
       "9996     andreabenton@example.com            009.056.6505    20/08/1932   \n",
       "9997    michaelayoder@example.net        409-428-4297x469    06/06/1966   \n",
       "9998      pstrickland@example.com            849-868-8653    09/05/1907   \n",
       "9999         andres56@example.org  001-874-330-5546x16770    14/08/1935   \n",
       "\n",
       "                     Job Title  \n",
       "9995  Scientist, physiological  \n",
       "9996         Warehouse manager  \n",
       "9997                    Lawyer  \n",
       "9998     Accounting technician  \n",
       "9999         Drilling engineer  "
      ]
     },
     "execution_count": 5,
     "metadata": {},
     "output_type": "execute_result"
    }
   ],
   "source": [
    "# 1.2 converteix la columna Date of birth al format Dia/Mes/Any (dd/mm/aaaa).\n",
    "# converteix al tipus datetime\n",
    "df['Date of birth'] = pd.to_datetime(df['Date of birth'],\n",
    "                                     format=\"%Y-%m-%d\").dt.strftime('%d/%m/%Y')\n",
    "# mostra les últimes files per veure si s'ha aplicat correctament el format\n",
    "# de la data\n",
    "df.tail(5)"
   ]
  },
  {
   "cell_type": "code",
   "execution_count": 6,
   "id": "aLFS6hkNujRt",
   "metadata": {
    "colab": {
     "base_uri": "https://localhost:8080/"
    },
    "executionInfo": {
     "elapsed": 2,
     "status": "ok",
     "timestamp": 1741074571143,
     "user": {
      "displayName": "Robert Buj",
      "userId": "02949197252302916494"
     },
     "user_tz": -60
    },
    "id": "aLFS6hkNujRt",
    "outputId": "2af326a5-ecf3-4a78-e5a0-2efdffccf765"
   },
   "outputs": [
    {
     "data": {
      "text/plain": [
       "640"
      ]
     },
     "execution_count": 6,
     "metadata": {},
     "output_type": "execute_result"
    }
   ],
   "source": [
    "# 1.3 mostra quantes professions úniques hi ha.\n",
    "df['Job Title'].nunique()"
   ]
  },
  {
   "cell_type": "code",
   "execution_count": 7,
   "id": "4tymsZIxukC0",
   "metadata": {
    "colab": {
     "base_uri": "https://localhost:8080/",
     "height": 35
    },
    "executionInfo": {
     "elapsed": 2,
     "status": "ok",
     "timestamp": 1741074571146,
     "user": {
      "displayName": "Robert Buj",
      "userId": "02949197252302916494"
     },
     "user_tz": -60
    },
    "id": "4tymsZIxukC0",
    "outputId": "ad418261-2c0c-4edf-a319-286717edb07b"
   },
   "outputs": [
    {
     "data": {
      "text/plain": [
       "'Film/video editor'"
      ]
     },
     "execution_count": 7,
     "metadata": {},
     "output_type": "execute_result"
    }
   ],
   "source": [
    "# 1.4 visualitza el títol de feina (Job title) més comuna.\n",
    "df['Job Title'].value_counts().idxmax()"
   ]
  },
  {
   "cell_type": "code",
   "execution_count": 8,
   "id": "onO2raQ6unWl",
   "metadata": {
    "colab": {
     "base_uri": "https://localhost:8080/"
    },
    "executionInfo": {
     "elapsed": 5,
     "status": "ok",
     "timestamp": 1741074571151,
     "user": {
      "displayName": "Robert Buj",
      "userId": "02949197252302916494"
     },
     "user_tz": -60
    },
    "id": "onO2raQ6unWl",
    "outputId": "9304dd58-118e-4849-d370-7713d718c962"
   },
   "outputs": [
    {
     "data": {
      "text/plain": [
       "np.int64(15)"
      ]
     },
     "execution_count": 8,
     "metadata": {},
     "output_type": "execute_result"
    }
   ],
   "source": [
    "# 1.5 mostra quantes persones tenen el nom Paul.\n",
    "df['First Name'].value_counts().get('Paul', 0)"
   ]
  },
  {
   "cell_type": "code",
   "execution_count": 9,
   "id": "V1law1eUun_Y",
   "metadata": {
    "colab": {
     "base_uri": "https://localhost:8080/"
    },
    "executionInfo": {
     "elapsed": 139,
     "status": "ok",
     "timestamp": 1741074571290,
     "user": {
      "displayName": "Robert Buj",
      "userId": "02949197252302916494"
     },
     "user_tz": -60
    },
    "id": "V1law1eUun_Y",
    "outputId": "dbd2a4e2-b66f-494e-a959-ebcda42d1a87"
   },
   "outputs": [
    {
     "data": {
      "text/plain": [
       "np.int64(815)"
      ]
     },
     "execution_count": 9,
     "metadata": {},
     "output_type": "execute_result"
    }
   ],
   "source": [
    "# 1.6 Mostra el nombre de persones nascudes al gener.\n",
    "pd.to_datetime(df[\"Date of birth\"], format=\"%d/%m/%Y\").dt.strftime(\n",
    "    \"%B\"\n",
    ").value_counts().get(\"January\", 0)"
   ]
  },
  {
   "cell_type": "markdown",
   "id": "9c65f05b",
   "metadata": {
    "id": "9c65f05b"
   },
   "source": [
    "## Exercici 2\n",
    "\n",
    "Utilitzant el dataframe obtingut en l'Exercici 1\n",
    "\n",
    "1. Llistar el nom i cognom de les persones que els seus Job Titles que continguin la paraula \"engineer\".\n",
    "2. Llistar tots el nom i cognom de persones el nom de les quals comenci per la lletra B, U o G.\n",
    "\n",
    "<span style=\"font-family: Courier New; background-color: #82b74b; color: #000000; padding: 3px;\">SM</span> **(1 punt)**\n"
   ]
  },
  {
   "cell_type": "markdown",
   "id": "9e7891a2",
   "metadata": {
    "id": "9e7891a2"
   },
   "source": [
    "<div style=\"background-color: #fcf2f2; border-color: #dfb5b4; border-left: 5px solid #dfb5b4; padding: 0.5em;\">\n",
    "<strong>Solució</strong>\n",
    "</div>"
   ]
  },
  {
   "cell_type": "code",
   "execution_count": 10,
   "id": "70c81549",
   "metadata": {
    "colab": {
     "base_uri": "https://localhost:8080/",
     "height": 423
    },
    "executionInfo": {
     "elapsed": 3,
     "status": "ok",
     "timestamp": 1741074571290,
     "user": {
      "displayName": "Robert Buj",
      "userId": "02949197252302916494"
     },
     "user_tz": -60
    },
    "id": "70c81549",
    "outputId": "77ce1d94-9c3b-48ba-d4c9-c8e91e11c654"
   },
   "outputs": [
    {
     "data": {
      "text/html": [
       "<div>\n",
       "<style scoped>\n",
       "    .dataframe tbody tr th:only-of-type {\n",
       "        vertical-align: middle;\n",
       "    }\n",
       "\n",
       "    .dataframe tbody tr th {\n",
       "        vertical-align: top;\n",
       "    }\n",
       "\n",
       "    .dataframe thead th {\n",
       "        text-align: right;\n",
       "    }\n",
       "</style>\n",
       "<table border=\"1\" class=\"dataframe\">\n",
       "  <thead>\n",
       "    <tr style=\"text-align: right;\">\n",
       "      <th></th>\n",
       "      <th>First Name</th>\n",
       "      <th>Last Name</th>\n",
       "    </tr>\n",
       "  </thead>\n",
       "  <tbody>\n",
       "    <tr>\n",
       "      <th>1</th>\n",
       "      <td>Alisha</td>\n",
       "      <td>Hebert</td>\n",
       "    </tr>\n",
       "    <tr>\n",
       "      <th>10</th>\n",
       "      <td>Jean</td>\n",
       "      <td>Aguilar</td>\n",
       "    </tr>\n",
       "    <tr>\n",
       "      <th>19</th>\n",
       "      <td>Jon</td>\n",
       "      <td>Wagner</td>\n",
       "    </tr>\n",
       "    <tr>\n",
       "      <th>30</th>\n",
       "      <td>Kirsten</td>\n",
       "      <td>Bailey</td>\n",
       "    </tr>\n",
       "    <tr>\n",
       "      <th>64</th>\n",
       "      <td>Abigail</td>\n",
       "      <td>Parks</td>\n",
       "    </tr>\n",
       "    <tr>\n",
       "      <th>...</th>\n",
       "      <td>...</td>\n",
       "      <td>...</td>\n",
       "    </tr>\n",
       "    <tr>\n",
       "      <th>9915</th>\n",
       "      <td>Chloe</td>\n",
       "      <td>Shea</td>\n",
       "    </tr>\n",
       "    <tr>\n",
       "      <th>9965</th>\n",
       "      <td>Harry</td>\n",
       "      <td>Mays</td>\n",
       "    </tr>\n",
       "    <tr>\n",
       "      <th>9970</th>\n",
       "      <td>Linda</td>\n",
       "      <td>Baxter</td>\n",
       "    </tr>\n",
       "    <tr>\n",
       "      <th>9993</th>\n",
       "      <td>Eddie</td>\n",
       "      <td>Clements</td>\n",
       "    </tr>\n",
       "    <tr>\n",
       "      <th>9999</th>\n",
       "      <td>Katrina</td>\n",
       "      <td>Schwartz</td>\n",
       "    </tr>\n",
       "  </tbody>\n",
       "</table>\n",
       "<p>984 rows × 2 columns</p>\n",
       "</div>"
      ],
      "text/plain": [
       "     First Name Last Name\n",
       "1        Alisha    Hebert\n",
       "10         Jean   Aguilar\n",
       "19          Jon    Wagner\n",
       "30      Kirsten    Bailey\n",
       "64      Abigail     Parks\n",
       "...         ...       ...\n",
       "9915      Chloe      Shea\n",
       "9965      Harry      Mays\n",
       "9970      Linda    Baxter\n",
       "9993      Eddie  Clements\n",
       "9999    Katrina  Schwartz\n",
       "\n",
       "[984 rows x 2 columns]"
      ]
     },
     "execution_count": 10,
     "metadata": {},
     "output_type": "execute_result"
    }
   ],
   "source": [
    "# 2.1\n",
    "df.loc[df['Job Title'].str.contains(\"[Ee]ngineer\"),\n",
    "       ['First Name', 'Last Name']]"
   ]
  },
  {
   "cell_type": "code",
   "execution_count": 11,
   "id": "oKsjihaX3Fiz",
   "metadata": {
    "colab": {
     "base_uri": "https://localhost:8080/",
     "height": 423
    },
    "executionInfo": {
     "elapsed": 83,
     "status": "ok",
     "timestamp": 1741074571372,
     "user": {
      "displayName": "Robert Buj",
      "userId": "02949197252302916494"
     },
     "user_tz": -60
    },
    "id": "oKsjihaX3Fiz",
    "outputId": "3f0b9eee-2ec0-4bc1-dfb2-2a279cc8dc4c"
   },
   "outputs": [
    {
     "data": {
      "text/html": [
       "<div>\n",
       "<style scoped>\n",
       "    .dataframe tbody tr th:only-of-type {\n",
       "        vertical-align: middle;\n",
       "    }\n",
       "\n",
       "    .dataframe tbody tr th {\n",
       "        vertical-align: top;\n",
       "    }\n",
       "\n",
       "    .dataframe thead th {\n",
       "        text-align: right;\n",
       "    }\n",
       "</style>\n",
       "<table border=\"1\" class=\"dataframe\">\n",
       "  <thead>\n",
       "    <tr style=\"text-align: right;\">\n",
       "      <th></th>\n",
       "      <th>First Name</th>\n",
       "      <th>Last Name</th>\n",
       "    </tr>\n",
       "  </thead>\n",
       "  <tbody>\n",
       "    <tr>\n",
       "      <th>2</th>\n",
       "      <td>Gwendolyn</td>\n",
       "      <td>Sheppard</td>\n",
       "    </tr>\n",
       "    <tr>\n",
       "      <th>4</th>\n",
       "      <td>Bobby</td>\n",
       "      <td>Pittman</td>\n",
       "    </tr>\n",
       "    <tr>\n",
       "      <th>7</th>\n",
       "      <td>Nicholas</td>\n",
       "      <td>Branch</td>\n",
       "    </tr>\n",
       "    <tr>\n",
       "      <th>12</th>\n",
       "      <td>Bradley</td>\n",
       "      <td>Velazquez</td>\n",
       "    </tr>\n",
       "    <tr>\n",
       "      <th>15</th>\n",
       "      <td>Bradley</td>\n",
       "      <td>Bright</td>\n",
       "    </tr>\n",
       "    <tr>\n",
       "      <th>...</th>\n",
       "      <td>...</td>\n",
       "      <td>...</td>\n",
       "    </tr>\n",
       "    <tr>\n",
       "      <th>9979</th>\n",
       "      <td>Bailey</td>\n",
       "      <td>Hall</td>\n",
       "    </tr>\n",
       "    <tr>\n",
       "      <th>9983</th>\n",
       "      <td>Joseph</td>\n",
       "      <td>Gordon</td>\n",
       "    </tr>\n",
       "    <tr>\n",
       "      <th>9986</th>\n",
       "      <td>Shane</td>\n",
       "      <td>Bryan</td>\n",
       "    </tr>\n",
       "    <tr>\n",
       "      <th>9989</th>\n",
       "      <td>Bill</td>\n",
       "      <td>Lang</td>\n",
       "    </tr>\n",
       "    <tr>\n",
       "      <th>9991</th>\n",
       "      <td>Benjamin</td>\n",
       "      <td>Vaughn</td>\n",
       "    </tr>\n",
       "  </tbody>\n",
       "</table>\n",
       "<p>2294 rows × 2 columns</p>\n",
       "</div>"
      ],
      "text/plain": [
       "     First Name  Last Name\n",
       "2     Gwendolyn   Sheppard\n",
       "4         Bobby    Pittman\n",
       "7      Nicholas     Branch\n",
       "12      Bradley  Velazquez\n",
       "15      Bradley     Bright\n",
       "...         ...        ...\n",
       "9979     Bailey       Hall\n",
       "9983     Joseph     Gordon\n",
       "9986      Shane      Bryan\n",
       "9989       Bill       Lang\n",
       "9991   Benjamin     Vaughn\n",
       "\n",
       "[2294 rows x 2 columns]"
      ]
     },
     "execution_count": 11,
     "metadata": {},
     "output_type": "execute_result"
    }
   ],
   "source": [
    "# 2.2\n",
    "df.loc[df['First Name'].str.contains('^[BUG].*') |\n",
    "       df['Last Name'].str.contains('^[BUG].*'), ['First Name', 'Last Name']]"
   ]
  },
  {
   "cell_type": "markdown",
   "id": "171c50a9",
   "metadata": {
    "id": "171c50a9"
   },
   "source": [
    "## Exercici 3\n",
    "Utilitzant el dataframe obtingut en l'Exercici 1\n",
    "\n",
    "1. Crear una classe `Person` que en el constructor rebi `first_name`, `last_name`, `date_of_birth` i `job_title`. Aquests paràmetres seran atributs de la classe `Person`.\n",
    "2. Afegir un mètode que retorna l'any de naixement de la persona en format enter.\n",
    "3. Afegir un mètode `print_info` (no rep cap paràmetre) que imprimeixi la informació de la persona en el següent format:  \n",
    "   `\"NOM COGNOM va néixer l'any ANY i treballa com a PROFESSIÓ\"`\n",
    "4. Filtrar el dataset per obtenir totes les persones que tinguin la professió de`Broadcast engineer`. Per cada persona `Broadcast engineer`, crear un objecte Person que contingui tota la informació, i afegir aquest objecte en una llista.\n",
    "5. Recórrer la llista creada d'objectes `Person` i cridar per cadascun al mètode `print_info`.\n",
    "\n",
    "<span style=\"font-family: Courier New; background-color: #82b74b; color: #000000; padding: 3px;\">SM</span> **(2 punts)**\n"
   ]
  },
  {
   "cell_type": "markdown",
   "id": "b75227e2",
   "metadata": {
    "id": "b75227e2"
   },
   "source": [
    "<div style=\"background-color: #fcf2f2; border-color: #dfb5b4; border-left: 5px solid #dfb5b4; padding: 0.5em;\">\n",
    "<strong>Solució</strong>\n",
    "</div>"
   ]
  },
  {
   "cell_type": "code",
   "execution_count": 12,
   "id": "af2d8dd7",
   "metadata": {
    "colab": {
     "base_uri": "https://localhost:8080/"
    },
    "executionInfo": {
     "elapsed": 3,
     "status": "ok",
     "timestamp": 1741074571375,
     "user": {
      "displayName": "Robert Buj",
      "userId": "02949197252302916494"
     },
     "user_tz": -60
    },
    "id": "af2d8dd7",
    "outputId": "a30cf42f-a5dd-4e32-cf4a-d8809d8bb446"
   },
   "outputs": [
    {
     "name": "stdout",
     "output_type": "stream",
     "text": [
      "Year of birth: 1970\n",
      "Peter Parker va néixer l'any 1970 i treballa com a Photographer\n"
     ]
    }
   ],
   "source": [
    "from datetime import datetime\n",
    "\n",
    "\n",
    "# 2.1\n",
    "class Person:\n",
    "    def __init__(self,\n",
    "                 first_name: str,\n",
    "                 last_name: str,\n",
    "                 date_of_birth: str,\n",
    "                 job_title: str):\n",
    "        self.first_name = first_name\n",
    "        self.last_name = last_name\n",
    "        self.date_of_birth = date_of_birth\n",
    "        self.job_title = job_title\n",
    "\n",
    "    # 2.2\n",
    "    def get_year_of_birth(self) -> int:\n",
    "        \"\"\"Aquesta funció calcula l'any de naixement a partir del camp\n",
    "        `date_of_birth`.\n",
    "\n",
    "        Returns:\n",
    "            int: L'any de naixement de la persona\n",
    "        \"\"\"\n",
    "        return datetime.strptime(self.date_of_birth, '%d/%m/%Y').year\n",
    "\n",
    "    # 2.3\n",
    "    def print_info(self) -> None:\n",
    "        \"\"\"Aquesta funció imprimeix la informació de la persona.\n",
    "        \"\"\"\n",
    "        print(\"{0} {1} va néixer l'any {2} i treballa com a {3}\"\n",
    "              .format(self.first_name, self.last_name,\n",
    "                      self.get_year_of_birth(), self.job_title))\n",
    "\n",
    "\n",
    "# 2.1 test\n",
    "p = Person(\"Peter\", \"Parker\", \"01/01/1970\", \"Photographer\")\n",
    "# 2.2 test\n",
    "print(\"Year of birth:\", p.get_year_of_birth())\n",
    "# 2.3 test\n",
    "p.print_info()"
   ]
  },
  {
   "cell_type": "code",
   "execution_count": 13,
   "id": "d7410381",
   "metadata": {
    "executionInfo": {
     "elapsed": 1,
     "status": "ok",
     "timestamp": 1741074571377,
     "user": {
      "displayName": "Robert Buj",
      "userId": "02949197252302916494"
     },
     "user_tz": -60
    },
    "id": "d7410381"
   },
   "outputs": [],
   "source": [
    "# 2.4\n",
    "dfp = df.loc[\n",
    "    df[\"Job Title\"] == \"Broadcast engineer\",\n",
    "    [\"First Name\", \"Last Name\", \"Date of birth\", \"Job Title\"],\n",
    "].rename(\n",
    "    columns={\n",
    "        \"First Name\": \"first_name\",\n",
    "        \"Last Name\": \"last_name\",\n",
    "        \"Date of birth\": \"date_of_birth\",\n",
    "        \"Job Title\": \"job_title\",\n",
    "    }\n",
    ")\n",
    "list_of_people = [(Person(row.first_name,\n",
    "                          row.last_name,\n",
    "                          row.date_of_birth,\n",
    "                          row.job_title)) for index, row in dfp.iterrows()]"
   ]
  },
  {
   "cell_type": "code",
   "execution_count": 14,
   "id": "fa0mQSVMIDK7",
   "metadata": {
    "colab": {
     "base_uri": "https://localhost:8080/"
    },
    "executionInfo": {
     "elapsed": 4,
     "status": "ok",
     "timestamp": 1741074571381,
     "user": {
      "displayName": "Robert Buj",
      "userId": "02949197252302916494"
     },
     "user_tz": -60
    },
    "id": "fa0mQSVMIDK7",
    "outputId": "b1666a42-66d1-4ab5-c16f-80f5dab47dbf"
   },
   "outputs": [
    {
     "name": "stdout",
     "output_type": "stream",
     "text": [
      "Alisha Hebert va néixer l'any 1969 i treballa com a Broadcast engineer\n",
      "Tonya Logan va néixer l'any 1950 i treballa com a Broadcast engineer\n",
      "Angela Rivas va néixer l'any 2008 i treballa com a Broadcast engineer\n",
      "Tim Grant va néixer l'any 1958 i treballa com a Broadcast engineer\n",
      "Karen Roth va néixer l'any 2001 i treballa com a Broadcast engineer\n",
      "Jeremy Anthony va néixer l'any 2019 i treballa com a Broadcast engineer\n",
      "Priscilla Murphy va néixer l'any 1982 i treballa com a Broadcast engineer\n",
      "Darren Estrada va néixer l'any 2020 i treballa com a Broadcast engineer\n",
      "Melinda Kemp va néixer l'any 1907 i treballa com a Broadcast engineer\n",
      "Dylan Livingston va néixer l'any 1934 i treballa com a Broadcast engineer\n",
      "Sarah Church va néixer l'any 1942 i treballa com a Broadcast engineer\n",
      "Parker Tucker va néixer l'any 1960 i treballa com a Broadcast engineer\n",
      "Briana Mcmillan va néixer l'any 1955 i treballa com a Broadcast engineer\n",
      "Wanda Mccullough va néixer l'any 2001 i treballa com a Broadcast engineer\n",
      "Helen Key va néixer l'any 2005 i treballa com a Broadcast engineer\n",
      "Mark Estrada va néixer l'any 1976 i treballa com a Broadcast engineer\n",
      "Summer Huber va néixer l'any 1951 i treballa com a Broadcast engineer\n",
      "Erika Bartlett va néixer l'any 1996 i treballa com a Broadcast engineer\n",
      "Jeremy Bautista va néixer l'any 1917 i treballa com a Broadcast engineer\n",
      "Brady Briggs va néixer l'any 1996 i treballa com a Broadcast engineer\n",
      "Krystal Singleton va néixer l'any 2004 i treballa com a Broadcast engineer\n",
      "Dale Shannon va néixer l'any 2002 i treballa com a Broadcast engineer\n",
      "Allen Scott va néixer l'any 1967 i treballa com a Broadcast engineer\n",
      "Jenny Andrade va néixer l'any 2000 i treballa com a Broadcast engineer\n",
      "Jade Cisneros va néixer l'any 1926 i treballa com a Broadcast engineer\n",
      "Elaine Malone va néixer l'any 1954 i treballa com a Broadcast engineer\n",
      "Stacy Cameron va néixer l'any 1916 i treballa com a Broadcast engineer\n"
     ]
    }
   ],
   "source": [
    "# 2.5\n",
    "for p in list_of_people:\n",
    "    p.print_info()"
   ]
  },
  {
   "cell_type": "markdown",
   "id": "lEz1Yx4oK0Pm",
   "metadata": {
    "id": "lEz1Yx4oK0Pm"
   },
   "source": [
    "## Exercici 4\n",
    "Utilitzant el dataframe obtingut en l'Exercici 1\n",
    "\n",
    "1. Crear una funció que rebi com a paràmetres el dataframe i la professió.\n",
    "2. La professió, per defecte, ha de tenir el valor de 'Therapeutic radiographer'.\n",
    "3. La funció ha de retornar un diccionari amb el nombre de professionals per sexe (`Male` o `Female`).\n",
    "\n",
    "<span style=\"font-family: Courier New; background-color: #82b74b; color: #000000; padding: 3px;\">SM</span> **(1.5 punts)**"
   ]
  },
  {
   "cell_type": "markdown",
   "id": "aBINlqeE8OZa",
   "metadata": {
    "id": "aBINlqeE8OZa"
   },
   "source": [
    "<div style=\"background-color: #fcf2f2; border-color: #dfb5b4; border-left: 5px solid #dfb5b4; padding: 0.5em;\">\n",
    "<strong>Solució</strong>\n",
    "</div>"
   ]
  },
  {
   "cell_type": "code",
   "execution_count": 15,
   "id": "f8e97TGiKyL1",
   "metadata": {
    "colab": {
     "base_uri": "https://localhost:8080/"
    },
    "executionInfo": {
     "elapsed": 4,
     "status": "ok",
     "timestamp": 1741074571387,
     "user": {
      "displayName": "Robert Buj",
      "userId": "02949197252302916494"
     },
     "user_tz": -60
    },
    "id": "f8e97TGiKyL1",
    "outputId": "34022b45-69a1-4826-bdfb-1b3bd9ef022c"
   },
   "outputs": [
    {
     "data": {
      "text/plain": [
       "{'Female': 16, 'Male': 9}"
      ]
     },
     "execution_count": 15,
     "metadata": {},
     "output_type": "execute_result"
    }
   ],
   "source": [
    "def get_sex_stats_for_profession(\n",
    "    df: pd.DataFrame, profession: str = \"Therapeutic radiographer\"\n",
    ") -> dict:\n",
    "    \"\"\"Aquesta funció obté el recompte de gènere per a una professió\n",
    "    determinada.\n",
    "\n",
    "    Args:\n",
    "        df (pd.DataFrame): El dataframe de les dades.\n",
    "        profession (str, optional): La professió o \"Therapeutic radiographer\".\n",
    "\n",
    "    Returns:\n",
    "        dict: Un diccionari amb el recompte de gènere per a la professió\n",
    "        especificada.\n",
    "    \"\"\"\n",
    "    return df.loc[df['Job Title'] == profession,\n",
    "                  'Sex'].value_counts().to_dict()\n",
    "\n",
    "\n",
    "get_sex_stats_for_profession(df)"
   ]
  },
  {
   "cell_type": "markdown",
   "id": "5b89f592",
   "metadata": {
    "id": "5b89f592"
   },
   "source": [
    "## Exercici 5\n",
    "\n",
    "1. Donada una llista de correus electrònics, heu de recórrer-la i, aplicant expressions regulars, determinar si el correu és vàlid o no vàlid.\n",
    "    * Els correus han de tenir el format `nom@domini`, on el domini ha de contenir un punt i més d'1 caràcter després del punt.\n",
    "2. Donat un text, heu d'extreure, a través d'una única expressió regular, una llista amb totes les dates que tenen el format correcte.\n",
    "    * Què considerem com a correcte:\n",
    "        * **Dia:** 1 o 2 dígits (permetent zeros a l'esquerra).\n",
    "        * **Separador:** pot ser `'/'`, `'-'` o `'.'`.\n",
    "        * **Mes:** 1 o 2 dígits (permetent zeros a l'esquerra).\n",
    "        * **Separador:** pot ser `'/'`, `'-'` o `'.'`.\n",
    "        * **Any:** 2 o 4 dígits.\n",
    "\n",
    "<span style=\"font-family: Courier New; background-color: #82b74b; color: #000000; padding: 3px;\">SM</span> **(2 punts)**"
   ]
  },
  {
   "cell_type": "code",
   "execution_count": 16,
   "id": "737854c7",
   "metadata": {
    "executionInfo": {
     "elapsed": 21,
     "status": "ok",
     "timestamp": 1741074571409,
     "user": {
      "displayName": "Robert Buj",
      "userId": "02949197252302916494"
     },
     "user_tz": -60
    },
    "id": "737854c7"
   },
   "outputs": [
    {
     "name": "stderr",
     "output_type": "stream",
     "text": [
      "17:80: E501 line too long (80 > 79 characters)\n"
     ]
    }
   ],
   "source": [
    "emails = [\n",
    "    \"usuari@example.com\",\n",
    "    \"altre.usuari@domini.co\",\n",
    "    \"correu.incorrecte@\",\n",
    "    \"sensearroba.com\",\n",
    "    \"nom@domini\",\n",
    "    \"usuari@domini.com\",\n",
    "    \"usuari@domini.c\",\n",
    "    \"user.name@sub.domini.org\"\n",
    "]\n",
    "\n",
    "text = \"\"\"\n",
    "Avui és 12/05/2020 i demà serà 13-05-2020.\n",
    "El 03.07.2019 es va celebrar un esdeveniment important.\n",
    "De vegades, les dates venen en formats reduïts com 7/8/20 o 07-08-20.\n",
    "Però no totes les combinacions són dates: 99/99/9999 no és vàlida.\n",
    "També poden aparèixer nombres com 2020/05/12 que no segueixen el format esperat.\n",
    "\"\"\""
   ]
  },
  {
   "cell_type": "markdown",
   "id": "737d6295",
   "metadata": {
    "id": "737d6295"
   },
   "source": [
    "<div style=\"background-color: #fcf2f2; border-color: #dfb5b4; border-left: 5px solid #dfb5b4; padding: 0.5em;\">\n",
    "<strong>Solució</strong>\n",
    "</div>"
   ]
  },
  {
   "cell_type": "code",
   "execution_count": 17,
   "id": "53e853f4",
   "metadata": {
    "colab": {
     "base_uri": "https://localhost:8080/"
    },
    "executionInfo": {
     "elapsed": 8,
     "status": "ok",
     "timestamp": 1741074571421,
     "user": {
      "displayName": "Robert Buj",
      "userId": "02949197252302916494"
     },
     "user_tz": -60
    },
    "id": "53e853f4",
    "outputId": "2d724cab-5fd3-410b-9a86-7224c3d7ca8a"
   },
   "outputs": [
    {
     "name": "stdout",
     "output_type": "stream",
     "text": [
      "'usuari@example.com' is valid.\n",
      "'altre.usuari@domini.co' is valid.\n",
      "'correu.incorrecte@' is not valid.\n",
      "'sensearroba.com' is not valid.\n",
      "'nom@domini' is not valid.\n",
      "'usuari@domini.com' is valid.\n",
      "'usuari@domini.c' is valid.\n",
      "'user.name@sub.domini.org' is valid.\n"
     ]
    }
   ],
   "source": [
    "# 5.1\n",
    "import re\n",
    "\n",
    "for email in emails:\n",
    "    if re.match(r'^[a-z]+(\\.[a-z]+)*@[a-z]+(\\.[a-z]+)+$', email):\n",
    "        print(f\"'{email}' is valid.\")\n",
    "    else:\n",
    "        print(f\"'{email}' is not valid.\")"
   ]
  },
  {
   "cell_type": "code",
   "execution_count": 18,
   "id": "fa1afb1a",
   "metadata": {
    "colab": {
     "base_uri": "https://localhost:8080/"
    },
    "executionInfo": {
     "elapsed": 4,
     "status": "ok",
     "timestamp": 1741074571426,
     "user": {
      "displayName": "Robert Buj",
      "userId": "02949197252302916494"
     },
     "user_tz": -60
    },
    "id": "fa1afb1a",
    "outputId": "552e8a49-6434-46c2-87f6-573288166365"
   },
   "outputs": [
    {
     "name": "stdout",
     "output_type": "stream",
     "text": [
      "12/05/2020\n",
      "13-05-2020\n",
      "03.07.2019\n",
      "7/8/20\n",
      "07-08-20\n"
     ]
    }
   ],
   "source": [
    "# 5.2\n",
    "# dia: (0?[1-9]|[12]\\d|3[01])\n",
    "# mes: (0?[1-9]|1[0-2])\n",
    "# any: (\\d{2}|\\d{4})\n",
    "# separador: [-/\\.]\n",
    "r = re.compile(\n",
    "    r'\\b((0?[1-9]|[12]\\d|3[01])([-/\\.])(0?[1-9]|1[0-2])\\3(\\d{2}|\\d{4}))\\b')\n",
    "\n",
    "for d in r.findall(text):\n",
    "    print(d[0])"
   ]
  },
  {
   "cell_type": "markdown",
   "id": "a6e23dff",
   "metadata": {
    "id": "a6e23dff"
   },
   "source": [
    "## Exercici 6\n",
    "\n",
    "Utilitzant el dataframe obtingut en l'Exercici 1\n",
    "\n",
    "1. Extreu els dominis dels emails utilitzant `str.extract()`.\n",
    "2. Crea el diccionari `domain_counts` (utilitzant *dict comprehension*) que contingui el nom de cada domini i el número de vegades que surt aquest domini.\n",
    "3. Ordena el diccionari amb `sorted()`, però en lloc de convertir-lo en un diccionari normal, el passem a `OrderedDict` per conservar l'ordre.\n",
    "4. Imprimeix els resultats iterant sobre `OrderedDict`.\n",
    "\n",
    "<span style=\"font-family: Courier New; background-color: #82b74b; color: #000000; padding: 3px;\">SM</span> **(1.5 punts)**"
   ]
  },
  {
   "cell_type": "markdown",
   "id": "c0be00e7",
   "metadata": {
    "id": "c0be00e7"
   },
   "source": [
    "<div style=\"background-color: #fcf2f2; border-color: #dfb5b4; border-left: 5px solid #dfb5b4; padding: 0.5em;\">\n",
    "<strong>Solució</strong>\n",
    "</div>"
   ]
  },
  {
   "cell_type": "code",
   "execution_count": 19,
   "id": "e951d2f2",
   "metadata": {
    "executionInfo": {
     "elapsed": 86,
     "status": "ok",
     "timestamp": 1741074571516,
     "user": {
      "displayName": "Robert Buj",
      "userId": "02949197252302916494"
     },
     "user_tz": -60
    },
    "id": "e951d2f2"
   },
   "outputs": [],
   "source": [
    "# 6.1\n",
    "df['Domain Name'] = df['Email'].str.extract(r'.*@(.*)')"
   ]
  },
  {
   "cell_type": "code",
   "execution_count": 20,
   "id": "NcIqBNRScBOt",
   "metadata": {
    "executionInfo": {
     "elapsed": 1,
     "status": "ok",
     "timestamp": 1741074571523,
     "user": {
      "displayName": "Robert Buj",
      "userId": "02949197252302916494"
     },
     "user_tz": -60
    },
    "id": "NcIqBNRScBOt"
   },
   "outputs": [],
   "source": [
    "# 6.2\n",
    "aux = df.groupby(['Domain Name']).agg({'Index': 'count'})\n",
    "domain_counts = {k: v for k, v in zip(aux.index, aux['Index'])}"
   ]
  },
  {
   "cell_type": "code",
   "execution_count": 21,
   "id": "uCrEcjKBi_2i",
   "metadata": {
    "executionInfo": {
     "elapsed": 0,
     "status": "ok",
     "timestamp": 1741074571524,
     "user": {
      "displayName": "Robert Buj",
      "userId": "02949197252302916494"
     },
     "user_tz": -60
    },
    "id": "uCrEcjKBi_2i"
   },
   "outputs": [],
   "source": [
    "# 6.3\n",
    "from collections import OrderedDict\n",
    "\n",
    "# ordena pel comptador descendent i pel nom ascendent\n",
    "domain_counts = OrderedDict(sorted(domain_counts.items(),\n",
    "                                   key=lambda x: (-x[1], x[0])))"
   ]
  },
  {
   "cell_type": "code",
   "execution_count": 22,
   "id": "2bO2dL4_jNpT",
   "metadata": {
    "colab": {
     "base_uri": "https://localhost:8080/"
    },
    "executionInfo": {
     "elapsed": 3,
     "status": "ok",
     "timestamp": 1741074571528,
     "user": {
      "displayName": "Robert Buj",
      "userId": "02949197252302916494"
     },
     "user_tz": -60
    },
    "id": "2bO2dL4_jNpT",
    "outputId": "53ceefff-b846-4715-d0f0-cc502cc76c7a"
   },
   "outputs": [
    {
     "name": "stdout",
     "output_type": "stream",
     "text": [
      "example.com: 3433\n",
      "example.org: 3291\n",
      "example.net: 3276\n"
     ]
    }
   ],
   "source": [
    "# 6.4\n",
    "for key, value in domain_counts.items():\n",
    "    print(f\"{key}: {value}\")"
   ]
  }
 ],
 "metadata": {
  "colab": {
   "provenance": []
  },
  "kernelspec": {
   "display_name": "Python 3",
   "language": "python",
   "name": "python3"
  },
  "language_info": {
   "codemirror_mode": {
    "name": "ipython",
    "version": 3
   },
   "file_extension": ".py",
   "mimetype": "text/x-python",
   "name": "python",
   "nbconvert_exporter": "python",
   "pygments_lexer": "ipython3",
   "version": "3.11.11"
  },
  "toc": {
   "base_numbering": 1,
   "nav_menu": {},
   "number_sections": true,
   "sideBar": true,
   "skip_h1_title": false,
   "title_cell": "Table of Contents",
   "title_sidebar": "Contents",
   "toc_cell": false,
   "toc_position": {},
   "toc_section_display": true,
   "toc_window_display": false
  },
  "varInspector": {
   "cols": {
    "lenName": 16,
    "lenType": 16,
    "lenVar": 40
   },
   "kernels_config": {
    "python": {
     "delete_cmd_postfix": "",
     "delete_cmd_prefix": "del ",
     "library": "var_list.py",
     "varRefreshCmd": "print(var_dic_list())"
    },
    "r": {
     "delete_cmd_postfix": ") ",
     "delete_cmd_prefix": "rm(",
     "library": "var_list.r",
     "varRefreshCmd": "cat(var_dic_list()) "
    }
   },
   "types_to_exclude": [
    "module",
    "function",
    "builtin_function_or_method",
    "instance",
    "_Feature"
   ],
   "window_display": false
  }
 },
 "nbformat": 4,
 "nbformat_minor": 5
}
