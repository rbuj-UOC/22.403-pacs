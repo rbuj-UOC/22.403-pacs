{
 "cells": [
  {
   "cell_type": "markdown",
   "id": "ab85b62f",
   "metadata": {
    "editable": true,
    "id": "ab85b62f",
    "slideshow": {
     "slide_type": ""
    },
    "tags": []
   },
   "source": [
    "\n",
    "\n"
   ]
  },
  {
   "cell_type": "markdown",
   "id": "3d136a76",
   "metadata": {
    "id": "3d136a76"
   },
   "source": [
    "<div style=\"width: 100%; clear: both;\">\n",
    "    <div style=\"float: left; width: 50%;\">\n",
    "       <img src=\"https://www.uoc.edu/portal/system/modules/edu.uoc.presentations/resources/img/branding/logo-uoc-default.png\", align=\"left\" width=\"125px\">\n",
    "    </div>\n",
    "</div>\n",
    "\n",
    "<div style=\"float: right; width: 50%;\">\n",
    "    <p style=\"margin: 0; padding-top: 22px; text-align:right;\">22.403 · Programació per a la ciència de dades</p>\n",
    "    <p style=\"margin: 0; text-align:right;\">Grau en Ciència de Dades Aplicada</p>\n",
    "    <p style=\"margin: 0; text-align:right; padding-button: 100px;\">Estudis d'Informàtica, Multimèdia i Telecomunicació</p>\n",
    "</div>\n",
    "</div>"
   ]
  },
  {
   "cell_type": "markdown",
   "id": "97120ff1",
   "metadata": {
    "id": "97120ff1"
   },
   "source": [
    "Programació per a la ciència de dades - PAC3\n",
    "============================"
   ]
  },
  {
   "cell_type": "markdown",
   "id": "98197c4d",
   "metadata": {
    "id": "98197c4d"
   },
   "source": [
    "Programació per a la ciència de dades - PAC3\n",
    "\n",
    "En aquest Notebook trobareu un conjunt d’exercicis que constitueixen la tercera activitat d’avaluació contínua (PAC) de l’assignatura.\n",
    "\n",
    "Per a cada exercici, tingueu en compte que:\n",
    "\n",
    "- **És necessari incloure comentaris** en el vostre codi, que expliquin com heu implementat la solució del problema plantejat.  \n",
    "- **És imprescindible** citar les referències consultades.  \n",
    "- **Es valorarà** que el codi proporcionat resolgui el problema proposat i també la qualitat del codi (comentaris, llegibilitat, claredat, ús adequat de les estructures de dades, bona nomenclatura de les variables i funcions, seguiment del PEP8, etc.). En aquesta PAC 3 és especialment important que el codi desenvolupat sigui eficient.\n",
    "\n",
    "Veureu que totes les activitats tenen una etiqueta, que indica els recursos necessaris per dur-les a terme. Hi ha tres possibles etiquetes:\n",
    "\n",
    "* <span style=\"font-family: Courier New; background-color: #82b74b; color: #000000; padding: 3px; \">SM</span>**Només materials**: les eines necessàries per fer l’activitat es poden trobar en els materials de l’assignatura (considerarem també els materials de l’assignatura Fonaments de Programació, així com les lectures obligatòries de material extern que s’indiquen en els notebooks).\n",
    "* <span style=\"font-family: Courier New; background-color: #ffcc5c; color: #000000; padding: 3px; \">EG</span>**Consulta externa guiada**: l’activitat pot requerir fer ús d’eines que no es troben en els materials de l’assignatura, però l’enunciat conté indicacions de on o com trobar la informació addicional necessària per resoldre l’activitat.  \n",
    "* <span style=\"font-family: Courier New; background-color: #f2ae72; color: #000000; padding: 3px; \">EI</span>**Consulta externa independent**: l’activitat pot requerir fer ús d’eines que no es troben en els materials de l’assignatura, i l’enunciat pot no incloure la descripció d’on o com trobar aquesta informació addicional. Serà necessari que l’estudiant cerqui aquesta informació utilitzant els recursos que s’han explicat a l’assignatura.\n",
    "\n",
    "Tingueu en compte que aquestes etiquetes no indiquen el nivell de dificultat de l’exercici, sinó únicament la necessitat de consulta de documentació externa per a la seva resolució. A més, recordeu que les **etiquetes són informatives**, però **podeu consultar referències externes, i fer-les servir, sempre que vulgueu (encara que no s’indiqui explícitament). De la mateixa manera, podeu realitzar una activitat sense consultar cap tipus de documentació**. Per exemple, per resoldre una activitat que només requereixi els materials de l’assignatura, podeu consultar referències externes, ja sigui per ajudar a resoldre-la o per ampliar coneixements."
   ]
  },
  {
   "cell_type": "markdown",
   "id": "35dc473e",
   "metadata": {
    "id": "35dc473e"
   },
   "source": [
    "**Important**: A més de la puntuació de cada exercici, que valora la qualitat de la solució proposada i els resultats obtinguts, en aquesta PAC es valoren 3 aspectes addicionals, transversals a totes les activitats:\n",
    "\n",
    "* **Documentació**(**0.25*f punts**): Totes les funcions dels exercicis d’aquesta PEC hauran d’estar correctament documentades utilitzant docstrings (en el format que preferiu).\n",
    "\n",
    "* **Modularitat**(**0.5*f punts**): Es valorarà la modularitat del codi (la correcta estructuració del codi en funcions).  \n",
    "* **Estil**(**0.25*f punts**): El codi ha de seguir la guia d’estil de Python [PEP8](https://www.python.org/dev/peps/pep-0008/), excepte en aquells casos on fer-ho compliqui la llegibilitat del codi.\n",
    "\n",
    "On $f$ és la fracció de la PAC realitzada. És a dir, la nota d’aquests aspectes transversals serà proporcional a la part de la PAC realitzada.\n",
    "\n",
    "Així, els aspectes transversals tindran una puntuació màxima d’1 punt si s’entreguen tots els exercicis de la PAC. En cas contrari, la nota dels aspectes transversals es multiplicarà per la fracció de PAC entregada. Per exemple, si els aspectes transversals estan puntuats amb un 1 i només s’ha entregat la meitat de la PAC, la nota dels aspectes transversals serà $1*0.5=0.5$.\n",
    "\n",
    "La nota dels aspectes transversals es considera inclosa dins les notes mencionades per als exercicis.\n",
    "\n",
    "---\n",
    "\n",
    "## Abans de començar\n",
    "\n",
    "Si us plau, llegiu atentament els següents paràgrafs relatius a l’originalitat en les activitats de l’assignatura abans de començar a treballar en la PAC.\n",
    "\n",
    "<div class=\"alert alert-block alert-success\">La manca d’originalitat es produeix quan en una activitat apareix contingut que no ha estat elaborat de forma individual per l’estudiant i no es referencia adequadament el seu origen. O bé quan, tot i que el contingut extern estigui referenciat, aquest és tan extens que no es pot considerar l’estudiant com a autor o autora de l’activitat.\n",
    "<br /><br />\n",
    "Així, alguns exemples de comportaments inadequats en relació amb la manca d’originalitat són:\n",
    "<ol>\n",
    "    <li>Crear la solució d’un exercici de la PAC en col·laboració entre diversos estudiants.</li>\n",
    "    <li>Incloure un exercici de la PAC que utilitzi codi trobat a internet sense citar la font.</li>\n",
    "    <li>Compartir la seva solució de la PAC amb altres estudiants de l’assignatura.</li>\n",
    "</ol>\n",
    "</div>\n",
    "\n",
    "## Instruccions de lliurament\n",
    "\n",
    "Per lliurar l’activitat cal:\n",
    "\n",
    "1. Comprovar que el notebook s’executa correctament a la màquina virtual. És important que abans de lliurar la vostra PAC comproveu que la versió final del codi que lliureu s’executa correctament en la seva totalitat. Per això, us recomanem realitzar una execució completa des de zero del notebook: feu clic a **Kernel > Restart & Run All** i comproveu que el notebook s’executa correctament.\n",
    "2. Activar les alertes d’estil i comprovar que el codi segueix les convencions d’estil de Python.\n",
    "3. Confirmar que sou els autors únics de la PAC i que aquesta inclou totes les cites als recursos externs que s’han utilitzat per elaborar-la. Per confirmar que sou els autors únics de l’activitat, afegiu el vostre nom complet al paràgraf de la cel·la següent.\n",
    "4. Generar un arxiu comprimit que inclogui tots els fitxers de la PAC (tant l’arxiu amb el notebook, amb extensió .ipynb, com les carpetes amb les dades necessàries per executar-lo). Assegureu-vos que es pot descomprimir aquest arxiu en qualsevol directori de l’ordinador i que el codi s’executa sense problemes.\n",
    "4. Per a aquesta PAC només caldrà lliurar l’arxiu amb el notebook (amb extensió .ipynb). Nosaltres afegirem la carpeta \"data\" (amb fitxers addicionals). Assegureu-vos que es pot copiar aquest arxiu en qualsevol directori de l’ordinador i que, un cop afegida una carpeta \"data\" en el mateix directori, el codi s’executa sense problemes.\n",
    "5. Lliurar la PAC a través del Registre d’Avaluació Contínua de l’aula.\n",
    "6. La càrrega del dataset s’ha de fer usant **rutes relatives**, ha de carregar el fitxer tenint en compte que el vostre notebook es troba dins d’una carpeta que conté la carpeta \"data\" amb els fitxers corresponents."
   ]
  },
  {
   "cell_type": "markdown",
   "id": "c8a7068e",
   "metadata": {
    "id": "c8a7068e"
   },
   "source": [
    "<div class=\"alert alert-block alert-warning\">Jo, *Robert Buj Gelonch*, confirmo que he elaborat de manera individual totes les activitats resoltes en aquesta PAC i que he inclòs les cites en totes les fonts externes que he utilitzat per resoldre les activitats.</div>"
   ]
  },
  {
   "cell_type": "markdown",
   "id": "ddc458b9",
   "metadata": {
    "id": "ddc458b9"
   },
   "source": [
    "Com s’ha comentat més amunt, en aquesta PAC es valora i puntua seguir la guia d’estil de Python **PEP8**. Tanmateix, no és necessari activar les alertes d’estil amb **pycodestyle**. S’entén que l’estudiant, a aquestes alçades, ja ha de seguir les regles d’estil que afavoreixen la llegibilitat del codi."
   ]
  },
  {
   "cell_type": "code",
   "execution_count": 1,
   "id": "27d17548",
   "metadata": {
    "colab": {
     "base_uri": "https://localhost:8080/"
    },
    "executionInfo": {
     "elapsed": 9572,
     "status": "ok",
     "timestamp": 1746729000013,
     "user": {
      "displayName": "Robert Buj",
      "userId": "02949197252302916494"
     },
     "user_tz": -120
    },
    "id": "27d17548",
    "outputId": "473299b5-11e3-4c64-98f0-455c9beb368d"
   },
   "outputs": [],
   "source": [
    "import os\n",
    "\n",
    "if os.getenv(\"COLAB_RELEASE_TAG\"):\n",
    "    # munta la unitat de google drive i accedeix a la carpeta de la unitat\n",
    "    from google.colab import drive\n",
    "    drive.mount('/content/drive')\n",
    "    %cd \"/content/drive/MyDrive/Colab Notebooks/Activity_3\"\n",
    "    # instal·la les dependencies\n",
    "    %pip install pycodestyle flake8 pycodestyle_magic line_profiler\n",
    "\n",
    "# activa la verificació de PEP8\n",
    "%load_ext pycodestyle_magic\n",
    "%pycodestyle_on\n",
    "\n",
    "# carreguem l'extensió per al profiling\n",
    "%load_ext line_profiler"
   ]
  },
  {
   "cell_type": "markdown",
   "id": "a0bcb3a0",
   "metadata": {
    "id": "a0bcb3a0"
   },
   "source": [
    "## Exercici 1\n",
    "Estudiarem la complexitat algorísmica en relació amb el temps d’execució de les funcions següents; haureu de calcular la complexitat algorísmica Θ i justificar la vostra resposta. Podeu assumir que tots els paràmetres d’entrada tenen la mateixa mida."
   ]
  },
  {
   "cell_type": "markdown",
   "id": "0ab4291e",
   "metadata": {
    "id": "0ab4291e"
   },
   "source": [
    "<span style=\"font-family: Courier New; background-color: #82b74b; color: #000000; padding: 3px; \">SM</span> **Exercici 1.1 (0.5 punts)**\n",
    "\n",
    "```python\n",
    "def calcular_puntuacion(L: list[int], s: list[int], d: dict[str, int]) -> int:\n",
    "    \"\"\"\n",
    "    Calcula la puntuación total de un conjunto de jugadores en base a sus habilidades,\n",
    "    el nivel de dificultad de los retos y un conjunto de multiplicadores.\n",
    "\n",
    "    Args:\n",
    "        L (list[int]): una lista de habilidades de los jugadores.\n",
    "        s (list[int]): una lista de niveles de dificultad de los retos.\n",
    "        d (dict[str, int]): un diccionario con factores de multiplicación por tipo de reto.\n",
    "\n",
    "    Returns:\n",
    "        int: puntuación total calculada.\n",
    "    \"\"\"\n",
    "    puntuacion_total = 0\n",
    "    for habilidad in L:\n",
    "        for dificultad in s:\n",
    "            for tipo_reto in d.keys():\n",
    "                puntuacion_total += d[tipo_reto] * (habilidad - dificultad)\n",
    "    return puntuacion_total\n",
    "```"
   ]
  },
  {
   "cell_type": "markdown",
   "id": "520b9c78",
   "metadata": {
    "id": "520b9c78"
   },
   "source": [
    "**Resposta:**\n",
    "\n",
    "En aquest cas, observant l'algorisme, podem veure com aquest té tres bucles niats que iteren pels elements de les tres llistes, ja que `d.keys()` retorna una llista amb les claus del diccionari. Per tant, si considerem que les llistes creixen de manera similar, aleshores el temps d'execució de l'algorisme compliria que:\n",
    "$$t(n) \\in O(n^3)$$\n",
    "\n",
    "ja que en el pitjor dels casos s'executaran $n$ vegades les instruccions de dins dels bucles externs i, per cada una d'aquestes vegades, s'executarà $n$ vegades cadascun dels bucles interns.\n",
    "\n",
    "Procedim a comptar les instruccions individualment, per comprovar el resultat. En aquest cas, l'algorisme executaria:\n",
    "* Una assignació\n",
    "* Per cada element de la llista `L`:\n",
    "    * Recuperar l'element a la variable `habilidad`\n",
    "    * Per cada element de la llista `s`:\n",
    "        * Recuperar l'element a la variable `dificultad`\n",
    "        * Per cada element de la llista `d.keys()`:\n",
    "            * Recuperar l'element a la variable `tipo_reto`\n",
    "            * Realitzar un càlcul algebraic i emmagatzemar-ho en una variable (`puntuacion_total = puntuacion_total + (d[tipo_reto] * (habilidad - dificultad))`)\n",
    "* Retornar el valor\n",
    "\n",
    "Si considerem que les tres llistes tenen el mateix nombre d'elements, tindrem:\n",
    "\n",
    "$$t(n) = 1 + n(1 + n(1 + 2n)) + 1 = 1 + n(1 + n + 2n^2) + 1 = 1 + n + n^2 + 2n^3 + 1$$\n",
    "i si ens quedem només amb el terme de creixement més ràpid podem dir que:\n",
    "$$t(n) \\in O(n^3)$$\n",
    "Encara que el càlcul algebraic `puntuacion_total = puntuacion_total + (d[tipo_reto] * (habilidad - dificultad))` es pot descompondre en diverses operacions, es considera com una única instrucció. Altrament no afecta el resultat perquè  $$t(n) = 1 + n(1 + n(1 + n(1 + k))) + 1 \\in O(n^3)$$ on k és el nombre d'operacions del càlcul algebraic.\n"
   ]
  },
  {
   "cell_type": "markdown",
   "id": "8403d8d2",
   "metadata": {
    "id": "8403d8d2"
   },
   "source": [
    "<span style=\"font-family: Courier New; background-color: #82b74b; color: #000000; padding: 3px; \">SM</span> **Exercici 1.2 (0.5 punts)**\n",
    "```python\n",
    "def calcular_puntuacion_opt(L: list[int]) -> int:\n",
    "    \"\"\"\n",
    "    Calcula la puntuación total en función de la habilidad de los jugadores,\n",
    "    aplicando un sistema de reducción progresiva de los retos.\n",
    "\n",
    "    Args:\n",
    "        L (list[int]): una lista de habilidades de los jugadores.\n",
    "\n",
    "    Returns:\n",
    "        int: puntuación total calculada.\n",
    "    \"\"\"\n",
    "    puntuacion_total = 0\n",
    "\n",
    "    for habilidad in L:\n",
    "        retos = L[:]\n",
    "        while len(retos) > 0:\n",
    "            puntuacion_total += habilidad ** 2\n",
    "            retos = retos[:len(retos) // 2]\n",
    "\n",
    "    return puntuacion_total\n",
    "```"
   ]
  },
  {
   "cell_type": "markdown",
   "id": "86281041",
   "metadata": {
    "id": "86281041"
   },
   "source": [
    "**Resposta:**\n",
    "\n",
    "En aquest cas, observant l'algorisme, podem veure com aquest té dos bucles. El bucle extern extern s'executa $n$ vegades, mentre que el bucle intern s'executa $log_{2}(n)+1$ vegades. Aleshores el temps d'execució de l'algorisme compliria que:\n",
    "$$t(n) \\in O(n*log_{2}(n))$$\n",
    "\n",
    "Procedim a comptar les instruccions individualment, per comprovar el resultat. En aquest cas, l'algorisme executaria:\n",
    "* Una assignació\n",
    "* Per cada element de la llista `L`:\n",
    "    * Recuperar l'element a la variable `habilidad`\n",
    "    * Duplica la llista `L` a la llista `retos`\n",
    "    * Repetir fins que la longitud de la llista `retos` sigui més gran que zero\n",
    "        * Actualitza el valor de la variable `puntuacion_total`\n",
    "        * Assigna a la llista `retos` la primera meitat de la llista `retos` si té més de 2 elements, altrament una llista buida.\n",
    "* Retornar el valor\n",
    "\n",
    "Aleshores tindrem:\n",
    "\n",
    "$$t(n) = 1 + n(1 + log_{2}(2n)) + 1 = 1 + n + nlog_{2}(2n) + 1$$\n",
    "i si ens quedem només amb el terme de creixement més ràpid podem dir que:\n",
    "$$t(n) \\in O(n*log_{2}(n))$$"
   ]
  },
  {
   "cell_type": "markdown",
   "id": "0b563c9d",
   "metadata": {
    "id": "0b563c9d"
   },
   "source": [
    "## Exercici 2\n",
    "\n",
    "Sou **analistes de dades** en un club de bàsquet que està preparant el proper draft de jugadors per a la lliga. La vostra tasca és analitzar un fitxer CSV amb estadístiques de jugadors per identificar patrons i ajudar el cos tècnic a prendre decisions. Tanmateix, us han donat una restricció important: **el processament ha de ser el més eficient possible**, ja que treballeu amb un gran volum de dades i no voleu que l’anàlisi trigui massa a executar-se.\n",
    "\n",
    "El fitxer ``Jugadores_Estadisticas.csv`` conté informació sobre els jugadors que han estat avaluats.\n",
    "\n",
    "El vostre primer objectiu és comptar **quants jugadors hi ha per a cada posició de joc al fitxer.**"
   ]
  },
  {
   "cell_type": "markdown",
   "id": "a28b629e",
   "metadata": {
    "id": "a28b629e"
   },
   "source": [
    "<span style=\"font-family: Courier New; background-color: #ffcc5c; color: #000000; padding: 3px; \">EG</span> **Exercici 2.1 (0.75 punts)**\n",
    "\n",
    "Implementeu dues funcions que comptin quants jugadors hi ha en cada posició de joc:\n",
    "\n",
    "1. Llegint línia per línia, sense carregar el fitxer sencer en memòria.  \n",
    "2. Usant Pandas, carregant el fitxer en un DataFrame i agrupant per posició de joc."
   ]
  },
  {
   "cell_type": "markdown",
   "id": "c8ab7fee",
   "metadata": {
    "id": "c8ab7fee"
   },
   "source": [
    "**Solució 2.1**"
   ]
  },
  {
   "cell_type": "code",
   "execution_count": 5,
   "id": "233a97a7",
   "metadata": {
    "colab": {
     "base_uri": "https://localhost:8080/"
    },
    "executionInfo": {
     "elapsed": 36,
     "status": "ok",
     "timestamp": 1746729000316,
     "user": {
      "displayName": "Robert Buj",
      "userId": "02949197252302916494"
     },
     "user_tz": -120
    },
    "id": "233a97a7",
    "outputId": "bd476e52-b76f-4b7c-8549-0e1493d6b7f9"
   },
   "outputs": [
    {
     "data": {
      "text/plain": [
       "{'ala-pivot': 1982,\n",
       " 'alero': 2075,\n",
       " 'base': 2012,\n",
       " 'escolta': 1971,\n",
       " 'pivot': 1960}"
      ]
     },
     "execution_count": 5,
     "metadata": {},
     "output_type": "execute_result"
    }
   ],
   "source": [
    "def read_csv(file_path: str) -> dict:\n",
    "    \"\"\"\n",
    "    Reads a CSV file line by line and counts occurrences of each position.\n",
    "    Args:\n",
    "        file_path (str): Path to the CSV file.\n",
    "    Returns:\n",
    "        dict: A dictionary with positions as keys and their counts as values.\n",
    "    \"\"\"\n",
    "    result = {'ala-pivot': 0, 'alero': 0, 'base': 0,\n",
    "              'escolta': 0, 'pivot': 0}\n",
    "    # Open the CSV file\n",
    "    with open(file_path, 'r') as file:\n",
    "        # Read and skip the first line\n",
    "        file.readline()\n",
    "        # Read each line in the file\n",
    "        for line in file:\n",
    "            position = line.strip().split(',')[2]\n",
    "            if position in result:  # Ensure the key exists in the dictionary\n",
    "                result[position] += 1\n",
    "            else:\n",
    "                result[position] = 1\n",
    "    return result\n",
    "\n",
    "\n",
    "read_csv('data/Jugadores_Estadisticas.csv')"
   ]
  },
  {
   "cell_type": "code",
   "execution_count": 6,
   "id": "c403ae6c",
   "metadata": {
    "colab": {
     "base_uri": "https://localhost:8080/"
    },
    "executionInfo": {
     "elapsed": 43,
     "status": "ok",
     "timestamp": 1746729000360,
     "user": {
      "displayName": "Robert Buj",
      "userId": "02949197252302916494"
     },
     "user_tz": -120
    },
    "id": "c403ae6c",
    "outputId": "098f16f2-d2a9-4c22-f3fd-a11bf240f6db"
   },
   "outputs": [
    {
     "data": {
      "text/plain": [
       "{'ala-pivot': 1982,\n",
       " 'alero': 2075,\n",
       " 'base': 2012,\n",
       " 'escolta': 1971,\n",
       " 'pivot': 1960}"
      ]
     },
     "execution_count": 6,
     "metadata": {},
     "output_type": "execute_result"
    }
   ],
   "source": [
    "import fileinput\n",
    "\n",
    "\n",
    "def read_csv_fileinput(file_path: str) -> dict:\n",
    "    \"\"\"\n",
    "    Reads a CSV file line by line and counts occurrences of each position.\n",
    "\n",
    "    Args:\n",
    "        file_path (str): Path to the CSV file.\n",
    "\n",
    "    Returns:\n",
    "        dict: A dictionary with positions as keys and their counts as values.\n",
    "    \"\"\"\n",
    "    result = {'ala-pivot': 0, 'alero': 0, 'base': 0,\n",
    "              'escolta': 0, 'pivot': 0}\n",
    "    # Open the CSV file\n",
    "    with fileinput.input(files=(file_path), encoding=\"utf-8\") as f:\n",
    "        for line in f:\n",
    "            # Skip the first line\n",
    "            if f.isfirstline():\n",
    "                continue\n",
    "            # Process the line\n",
    "            position = line.strip().split(',')[2]\n",
    "            if position in result:\n",
    "                result[position] += 1\n",
    "            else:\n",
    "                result[position] = 1\n",
    "    return result\n",
    "\n",
    "\n",
    "read_csv_fileinput('data/Jugadores_Estadisticas.csv')"
   ]
  },
  {
   "cell_type": "code",
   "execution_count": 7,
   "id": "210d9f1c",
   "metadata": {
    "colab": {
     "base_uri": "https://localhost:8080/"
    },
    "executionInfo": {
     "elapsed": 611,
     "status": "ok",
     "timestamp": 1746729000970,
     "user": {
      "displayName": "Robert Buj",
      "userId": "02949197252302916494"
     },
     "user_tz": -120
    },
    "id": "210d9f1c",
    "outputId": "562a5560-2f91-43ec-b5a2-0f39256d2d79"
   },
   "outputs": [
    {
     "data": {
      "text/plain": [
       "{'alero': 2075,\n",
       " 'base': 2012,\n",
       " 'ala-pivot': 1982,\n",
       " 'escolta': 1971,\n",
       " 'pivot': 1960}"
      ]
     },
     "execution_count": 7,
     "metadata": {},
     "output_type": "execute_result"
    }
   ],
   "source": [
    "# 2. Usant Pandas, carregant el fitxer en un DataFrame i agrupant per posició\n",
    "# de joc.\n",
    "import pandas as pd\n",
    "\n",
    "\n",
    "def read_csv_pandas(file_path: str) -> dict:\n",
    "    \"\"\"\n",
    "    Reads a CSV file using pandas and counts occurrences of each position.\n",
    "    Args:\n",
    "        file_path (str): Path to the CSV file.\n",
    "    Returns:\n",
    "        dict: A dictionary with positions as keys and their counts as values.\n",
    "    \"\"\"\n",
    "    # Read the CSV file into a DataFrame\n",
    "    df = pd.read_csv(file_path)\n",
    "    # Group by position and count occurrences\n",
    "    return df['posicion'].value_counts().to_dict()\n",
    "\n",
    "\n",
    "read_csv_pandas('data/Jugadores_Estadisticas.csv')"
   ]
  },
  {
   "cell_type": "markdown",
   "id": "71e96228",
   "metadata": {
    "id": "71e96228"
   },
   "source": [
    "<span style=\"font-family: Courier New; background-color: #82b74b; color: #000000; padding: 3px; \">SM</span> **Exercici 2.2 (0.75 punts)**\n",
    "\n",
    "Avalueu i justifiqueu, utilitzant les eines de profiling, quina de les dues implementacions és més eficient per a la tasca que se us demana."
   ]
  },
  {
   "cell_type": "markdown",
   "id": "56e544f8",
   "metadata": {
    "id": "56e544f8"
   },
   "source": [
    "**Solució 2.2**"
   ]
  },
  {
   "cell_type": "code",
   "execution_count": 8,
   "id": "bc7fadab",
   "metadata": {
    "colab": {
     "base_uri": "https://localhost:8080/"
    },
    "executionInfo": {
     "elapsed": 15640,
     "status": "ok",
     "timestamp": 1746729016611,
     "user": {
      "displayName": "Robert Buj",
      "userId": "02949197252302916494"
     },
     "user_tz": -120
    },
    "id": "bc7fadab",
    "outputId": "a4ee5f60-0242-493b-a3b2-84f79000dcf7"
   },
   "outputs": [
    {
     "name": "stdout",
     "output_type": "stream",
     "text": [
      "2.28 ms ± 32 μs per loop (mean ± std. dev. of 7 runs, 100 loops each)\n"
     ]
    },
    {
     "data": {
      "text/plain": [
       "<TimeitResult : 2.28 ms ± 32 μs per loop (mean ± std. dev. of 7 runs, 100 loops each)>"
      ]
     },
     "execution_count": 8,
     "metadata": {},
     "output_type": "execute_result"
    }
   ],
   "source": [
    "%%timeit -o\n",
    "read_csv('data/Jugadores_Estadisticas.csv')"
   ]
  },
  {
   "cell_type": "code",
   "execution_count": 9,
   "id": "97bdadcf",
   "metadata": {
    "colab": {
     "base_uri": "https://localhost:8080/"
    },
    "executionInfo": {
     "elapsed": 11371,
     "status": "ok",
     "timestamp": 1746729027981,
     "user": {
      "displayName": "Robert Buj",
      "userId": "02949197252302916494"
     },
     "user_tz": -120
    },
    "id": "97bdadcf",
    "outputId": "7a66a9b6-2c04-4884-bedd-ef8b7c7cd971"
   },
   "outputs": [
    {
     "data": {
      "text/plain": [
       "<TimeitResult : 3.07 ms +- 32.2 us per loop (mean +- std. dev. of 7 runs, 100 loops each)>"
      ]
     },
     "execution_count": 9,
     "metadata": {},
     "output_type": "execute_result"
    }
   ],
   "source": [
    "%%timeit -o\n",
    "read_csv_fileinput('data/Jugadores_Estadisticas.csv')"
   ]
  },
  {
   "cell_type": "code",
   "execution_count": 10,
   "id": "f0ed63bf",
   "metadata": {
    "colab": {
     "base_uri": "https://localhost:8080/"
    },
    "executionInfo": {
     "elapsed": 11565,
     "status": "ok",
     "timestamp": 1746729039547,
     "user": {
      "displayName": "Robert Buj",
      "userId": "02949197252302916494"
     },
     "user_tz": -120
    },
    "id": "f0ed63bf",
    "outputId": "1ba9f71b-0a4e-4145-bed0-b915504ae760"
   },
   "outputs": [
    {
     "data": {
      "text/plain": [
       "<TimeitResult : 1.92 ms +- 5.55 us per loop (mean +- std. dev. of 7 runs, 1,000 loops each)>"
      ]
     },
     "execution_count": 10,
     "metadata": {},
     "output_type": "execute_result"
    }
   ],
   "source": [
    "%%timeit -o\n",
    "read_csv_pandas('data/Jugadores_Estadisticas.csv')"
   ]
  },
  {
   "cell_type": "markdown",
   "id": "cdad2df3",
   "metadata": {
    "id": "cdad2df3"
   },
   "source": [
    "**Resposta**\n",
    "\n",
    "| Implementació | Temps d'execució |\n",
    "| --- | --- |\n",
    "| read_csv | 2.28 ms ± 32 μs |\n",
    "| read_csv_fileinput | 3.07 ms +- 32.2 us |\n",
    "| read_csv_pandas | 1.92 ms +- 5.55 us |\n",
    "\n",
    "En l'ordinador que s'ha executat el notebook, podem dir que la implementació amb Pandas (read_csv_pandas) i la implementació amb la lectura del fitxer línia a línia (read_csv) tenen temps d'execucions similars.\n",
    "\n",
    "La lectura del fitxer línia a línia amb `fileinput` té el pitjor temps d'execució."
   ]
  },
  {
   "cell_type": "markdown",
   "id": "52264a97",
   "metadata": {
    "id": "52264a97"
   },
   "source": [
    "## Exercici 3\n",
    "\n",
    "L’equip tècnic del club us ha proporcionat un codi que calcula la puntuació total d’un jugador al llarg de tots els seus partits. Aquesta informació es guarda en un diccionari amb l’identificador del jugador i els punts en aquell partit. Tanmateix, han notat que aquest càlcul és molt lent quan s’executa sobre un gran nombre de registres.\n",
    "\n",
    "Com a analistes de dades, el vostre objectiu és detectar les ineficiències i optimitzar el codi perquè s’executi de manera més eficient."
   ]
  },
  {
   "cell_type": "code",
   "execution_count": null,
   "id": "9606f9f7",
   "metadata": {
    "executionInfo": {
     "elapsed": 10,
     "status": "ok",
     "timestamp": 1746729039680,
     "user": {
      "displayName": "Robert Buj",
      "userId": "02949197252302916494"
     },
     "user_tz": -120
    },
    "id": "9606f9f7"
   },
   "outputs": [],
   "source": [
    "%reset -f\n",
    "def calcular_puntuacion_total(jugadores):\n",
    "    \"\"\"\n",
    "    Función que calcula la puntuación total de cada jugador\n",
    "    Args:\n",
    "        jugadores (list): Lista de tuplas en formato (nombre, puntos).\n",
    "    Returns:\n",
    "        dict: Diccionario con la suma de puntos por jugador.\n",
    "    \"\"\"\n",
    "    puntuaciones = {}\n",
    "\n",
    "    for jugador in jugadores:\n",
    "        id_jugador = jugador[0]\n",
    "        puntos = jugador[1]\n",
    "\n",
    "        if id_jugador not in puntuaciones:\n",
    "            total = 0\n",
    "            for j in jugadores:\n",
    "                if j[0] == id_jugador:\n",
    "                    total += j[1]\n",
    "            puntuaciones[id_jugador] = total\n",
    "\n",
    "    return puntuaciones"
   ]
  },
  {
   "cell_type": "code",
   "execution_count": 13,
   "id": "ac055142",
   "metadata": {
    "colab": {
     "base_uri": "https://localhost:8080/"
    },
    "executionInfo": {
     "elapsed": 122,
     "status": "ok",
     "timestamp": 1746729039834,
     "user": {
      "displayName": "Robert Buj",
      "userId": "02949197252302916494"
     },
     "user_tz": -120
    },
    "id": "ac055142",
    "outputId": "cadf6b06-4ac5-4a4d-ddb4-1d0398ecd47f"
   },
   "outputs": [
    {
     "data": {
      "text/plain": [
       "{53: 288450, 34: 291254, 45: 294328, 210: 290025, 23: 292811, 183: 292402}"
      ]
     },
     "execution_count": 13,
     "metadata": {},
     "output_type": "execute_result"
    }
   ],
   "source": [
    "# Exemple d'ús amb una llista gran\n",
    "import random\n",
    "\n",
    "id_jugadores = [23, 34, 53, 45, 183, 210]\n",
    "jugadores = [(random.choice(id_jugadores), random.randint(5, 30))\n",
    "             for _ in range(100000)]\n",
    "del id_jugadores\n",
    "\n",
    "# Cridem a la funció\n",
    "calcular_puntuacion_total(jugadores)"
   ]
  },
  {
   "cell_type": "markdown",
   "id": "6186e332",
   "metadata": {
    "id": "6186e332"
   },
   "source": [
    "<span style=\"font-family: Courier New; background-color: #82b74b; color: #000000; padding: 3px; \">SM</span> **Exercici 3.1 (0.75 punts)**\n",
    "\n",
    "Utilitzeu eines de profiling per analitzar quines parts del codi són més lentes."
   ]
  },
  {
   "cell_type": "markdown",
   "id": "fb4f5bea",
   "metadata": {
    "id": "fb4f5bea"
   },
   "source": [
    "**Resposta:**\n",
    "\n",
    "Executem lprun per avaluar les ineficiències en el codi:"
   ]
  },
  {
   "cell_type": "code",
   "execution_count": 14,
   "id": "b0cc091b",
   "metadata": {
    "executionInfo": {
     "elapsed": 1112,
     "status": "ok",
     "timestamp": 1746729040961,
     "user": {
      "displayName": "Robert Buj",
      "userId": "02949197252302916494"
     },
     "user_tz": -120
    },
    "id": "b0cc091b"
   },
   "outputs": [
    {
     "name": "stdout",
     "output_type": "stream",
     "text": [
      "Timer unit: 1e-09 s\n",
      "\n",
      "Total time: 0.123534 s\n",
      "File: /var/folders/m5/b3dpt_h134s4t3tylmrz_5mh0000gn/T/ipykernel_14393/2153634407.py\n",
      "Function: calcular_puntuacion_total at line 1\n",
      "\n",
      "Line #      Hits         Time  Per Hit   % Time  Line Contents\n",
      "==============================================================\n",
      "     1                                           def calcular_puntuacion_total(jugadores):\n",
      "     2                                               \"\"\"\n",
      "     3                                               Función que calcula la puntuación total de cada jugador\n",
      "     4                                               Args:\n",
      "     5                                                   jugadores (list): Lista de tuplas en formato (nombre, puntos).\n",
      "     6                                               Returns:\n",
      "     7                                                   dict: Diccionario con la suma de puntos por jugador.\n",
      "     8                                               \"\"\"\n",
      "     9         1          0.0      0.0      0.0      puntuaciones = {}\n",
      "    10                                           \n",
      "    11    100001    8482000.0     84.8      6.9      for jugador in jugadores:\n",
      "    12    100000    6159000.0     61.6      5.0          id_jugador = jugador[0]\n",
      "    13    100000    5605000.0     56.0      4.5          puntos = jugador[1]\n",
      "    14                                           \n",
      "    15    100000    6469000.0     64.7      5.2          if id_jugador not in puntuaciones:\n",
      "    16         6          0.0      0.0      0.0              total = 0\n",
      "    17    600006   49198000.0     82.0     39.8              for j in jugadores:\n",
      "    18    600000   41208000.0     68.7     33.4                  if j[0] == id_jugador:\n",
      "    19    100000    6408000.0     64.1      5.2                      total += j[1]\n",
      "    20         6       4000.0    666.7      0.0              puntuaciones[id_jugador] = total\n",
      "    21                                           \n",
      "    22         1       1000.0   1000.0      0.0      return puntuaciones"
     ]
    }
   ],
   "source": [
    "%lprun -f calcular_puntuacion_total calcular_puntuacion_total(jugadores)"
   ]
  },
  {
   "cell_type": "markdown",
   "id": "47653ffa",
   "metadata": {
    "id": "47653ffa"
   },
   "source": [
    "S'utilitza un 78.4% (39.8% + 33.4% + 5.2%) del temps d'execució en recorrer la llista de puntuacions dins del bucle intern, tot i que en el bucle extern ja recorre la mateixa llista.\n",
    "```python\n",
    "for j in jugadores:\n",
    "    if j[0] == id_jugador:\n",
    "        total += j[1]\n",
    "```\n"
   ]
  },
  {
   "cell_type": "markdown",
   "id": "c5a78ab4",
   "metadata": {
    "id": "c5a78ab4"
   },
   "source": [
    "No s'utilitza la següent assignació (4.5% del temps d'execució):\n",
    "```python\n",
    "puntos = jugador[1]\n",
    "```"
   ]
  },
  {
   "cell_type": "markdown",
   "id": "4f5a2bcc",
   "metadata": {
    "id": "4f5a2bcc"
   },
   "source": [
    "<span style=\"font-family: Courier New; background-color: #82b74b; color: #000000; padding: 3px; \">SM</span> **Exercici 3.2 (0.75 punts)**\n",
    "\n",
    "Optimitzeu el codi perquè s’executi de manera més eficient i justifiqueu l’optimització utilitzant el _profiling_."
   ]
  },
  {
   "cell_type": "code",
   "execution_count": 15,
   "id": "558cb984",
   "metadata": {
    "executionInfo": {
     "elapsed": 5,
     "status": "ok",
     "timestamp": 1746729040977,
     "user": {
      "displayName": "Robert Buj",
      "userId": "02949197252302916494"
     },
     "user_tz": -120
    },
    "id": "558cb984"
   },
   "outputs": [],
   "source": [
    "def calcular_puntuacion_total_opt(jugadores):\n",
    "    \"\"\"\n",
    "    Función que calcula la puntuación total de cada jugador\n",
    "    Args:\n",
    "        jugadores (list): Lista de tuplas en formato (nombre, puntos).\n",
    "    Returns:\n",
    "        dict: Diccionario con la suma de puntos por jugador.\n",
    "    \"\"\"\n",
    "    puntuaciones = {}\n",
    "    for jugador in jugadores:\n",
    "        if jugador[0] in puntuaciones:\n",
    "            puntuaciones[jugador[0]] += jugador[1]\n",
    "        else:\n",
    "            puntuaciones[jugador[0]] = jugador[1]\n",
    "    return puntuaciones"
   ]
  },
  {
   "cell_type": "code",
   "execution_count": 16,
   "id": "b6e9d0f0",
   "metadata": {
    "executionInfo": {
     "elapsed": 170,
     "status": "ok",
     "timestamp": 1746729041147,
     "user": {
      "displayName": "Robert Buj",
      "userId": "02949197252302916494"
     },
     "user_tz": -120
    },
    "id": "b6e9d0f0"
   },
   "outputs": [
    {
     "name": "stdout",
     "output_type": "stream",
     "text": [
      "Timer unit: 1e-09 s\n",
      "\n",
      "Total time: 0.033113 s\n",
      "File: /var/folders/m5/b3dpt_h134s4t3tylmrz_5mh0000gn/T/ipykernel_14393/346943859.py\n",
      "Function: calcular_puntuacion_total_opt at line 1\n",
      "\n",
      "Line #      Hits         Time  Per Hit   % Time  Line Contents\n",
      "==============================================================\n",
      "     1                                           def calcular_puntuacion_total_opt(jugadores):\n",
      "     2                                               \"\"\"\n",
      "     3                                               Función que calcula la puntuación total de cada jugador\n",
      "     4                                               Args:\n",
      "     5                                                   jugadores (list): Lista de tuplas en formato (nombre, puntos).\n",
      "     6                                               Returns:\n",
      "     7                                                   dict: Diccionario con la suma de puntos por jugador.\n",
      "     8                                               \"\"\"\n",
      "     9         1          0.0      0.0      0.0      puntuaciones = {}\n",
      "    10    100001   10873000.0    108.7     32.8      for jugador in jugadores:\n",
      "    11    100000    8914000.0     89.1     26.9          if jugador[0] in puntuaciones:\n",
      "    12     99994   13323000.0    133.2     40.2              puntuaciones[jugador[0]] += jugador[1]\n",
      "    13                                                   else:\n",
      "    14         6       2000.0    333.3      0.0              puntuaciones[jugador[0]] = jugador[1]\n",
      "    15         1       1000.0   1000.0      0.0      return puntuaciones"
     ]
    }
   ],
   "source": [
    "%lprun -f calcular_puntuacion_total_opt calcular_puntuacion_total_opt(jugadores)"
   ]
  },
  {
   "cell_type": "markdown",
   "id": "d32be3ad",
   "metadata": {
    "id": "d32be3ad"
   },
   "source": [
    "Després de l'optimització només s'utilitza un 24.7% (100 * (0.0351796 / 0.141964)) del temps d'execució inicial."
   ]
  },
  {
   "cell_type": "markdown",
   "id": "d0bceb6a",
   "metadata": {
    "editable": true,
    "id": "d0bceb6a",
    "slideshow": {
     "slide_type": ""
    },
    "tags": []
   },
   "source": [
    "## Exercici 4\n",
    "\n",
    "### Anàlisi de la Freqüència Cardíaca en Jugadors amb Multiprocés\n",
    "\n",
    "El club per al qual treballeu ha establert una col·laboració amb un fabricant de rellotges intel·ligents que recopila dades de freqüència cardíaca mitjana de jugadors de bàsquet a nivell mundial.\n",
    "\n",
    "Com a part d’aquesta col·laboració, el fabricant us ha cedit un conjunt de dades amb la freqüència cardíaca mitjana de 500 entrenaments consecutius (equivalents a 2 anys) per a 10.000 jugadors.  \n",
    "Aquestes dades estan emmagatzemades al fitxer `jugadores_FC.csv`, on cada fila representa una mesura de freqüència cardíaca d’un jugador en un entrenament específic.\n",
    "\n",
    "#### Objectiu\n",
    "\n",
    "L’equip d’entrenadors desitja identificar patrons de sobrecàrrega en els jugadors, és a dir, períodes on la freqüència cardíaca mitjana és anormalment alta. Per a això, un altre científic de dades ha desenvolupat les funcions següents:\n",
    "\n",
    "- *filtro_media_movil*: Suavitza el senyal de freqüència cardíaca mitjançant un filtre de mitjana mòbil per reduir la variabilitat entre entrenaments.\n",
    "- *detectar_picos*: Detecta pics de freqüència cardíaca quan se superen certs llindars.\n",
    "- *procesar_senal_jugador*: Aplica ambdues funcions per analitzar les dades d’un jugador.\n",
    "\n",
    "El club preveu rebre moltes més dades en el futur, per la qual cosa és important analitzar si el processament amb multiprocés pot ser més eficient que l’execució seqüencial actual.\n",
    "\n",
    "La vostra tasca és comparar el rendiment d’ambdós enfocaments i determinar si el multiprocés aporta beneficis en termes de temps d’execució."
   ]
  },
  {
   "cell_type": "code",
   "execution_count": 25,
   "id": "bc9b2211",
   "metadata": {
    "executionInfo": {
     "elapsed": 16,
     "status": "ok",
     "timestamp": 1746729041329,
     "user": {
      "displayName": "Robert Buj",
      "userId": "02949197252302916494"
     },
     "user_tz": -120
    },
    "id": "bc9b2211"
   },
   "outputs": [],
   "source": [
    "%reset -f\n",
    "def filtro_media_movil(senal, ventana=5):\n",
    "    \"\"\" Aplica un filtro de media móvil para suavizar la señal. \"\"\"\n",
    "    return senal.rolling(window=ventana, min_periods=1).mean()\n",
    "\n",
    "\n",
    "def detectar_picos(senal, umbral=160):\n",
    "    \"\"\" Detecta los picos de frecuencia cardíaca por encima del umbral. \"\"\"\n",
    "    return senal[senal > umbral].index.tolist()\n",
    "\n",
    "\n",
    "def procesar_senal_jugador(df, jugador_id):\n",
    "    \"\"\"\n",
    "    Filtra y encuentra picos de frecuencia cardíaca para un jugador específico.\n",
    "\n",
    "    Args:\n",
    "        df (pd.DataFrame): DataFrame con datos de frecuencia cardíaca.\n",
    "        jugador_id (int): ID del jugador a procesar.\n",
    "\n",
    "    Returns:\n",
    "        dict: Datos del jugador con frecuencia filtrada y picos detectados.\n",
    "    \"\"\"\n",
    "    datos_jugador = df[df[\"jugador_id\"] == jugador_id].copy()\n",
    "    datos_jugador[\"frecuencia_filtrada\"] = filtro_media_movil(\n",
    "        datos_jugador[\"frecuencia\"])\n",
    "    picos = detectar_picos(datos_jugador[\"frecuencia_filtrada\"])\n",
    "    return {\"jugador_id\": jugador_id, \"picos\": picos}"
   ]
  },
  {
   "cell_type": "markdown",
   "id": "d3b69d91",
   "metadata": {
    "id": "d3b69d91"
   },
   "source": [
    "<span style=\"font-family: Courier New; background-color: #ffcc5c; color: #000000; padding: 3px; \">EG</span> **Exercici 4.1 (0.5 punts)**\n",
    "\n",
    "Executa la funció `procesar_senal_jugador()` de manera seqüencial per a cada jugador del DataFrame. Mesura i informa del temps total d’execució."
   ]
  },
  {
   "cell_type": "code",
   "execution_count": 6,
   "id": "_lrqNUZAPfLa",
   "metadata": {
    "executionInfo": {
     "elapsed": 2980,
     "status": "ok",
     "timestamp": 1746729044310,
     "user": {
      "displayName": "Robert Buj",
      "userId": "02949197252302916494"
     },
     "user_tz": -120
    },
    "id": "_lrqNUZAPfLa"
   },
   "outputs": [],
   "source": [
    "import pandas as pd\n",
    "\n",
    "# Llegim el fitxer CSV\n",
    "df = pd.read_csv('data/Jugadores_FC.csv', sep=',')"
   ]
  },
  {
   "cell_type": "code",
   "execution_count": 20,
   "id": "f9dd348e",
   "metadata": {
    "id": "f9dd348e"
   },
   "outputs": [
    {
     "data": {
      "text/plain": [
       "<TimeitResult : 9.51 s +- 142 ms per loop (mean +- std. dev. of 7 runs, 1 loop each)>"
      ]
     },
     "execution_count": 20,
     "metadata": {},
     "output_type": "execute_result"
    }
   ],
   "source": [
    "%%timeit -o\n",
    "result = [procesar_senal_jugador(df, x) for x in df['jugador_id'].unique()]"
   ]
  },
  {
   "cell_type": "markdown",
   "id": "25bd64a1",
   "metadata": {
    "id": "25bd64a1"
   },
   "source": [
    "<span style=\"font-family: Courier New; background-color: #ffcc5c; color: #000000; padding: 3px; \">EG</span> **Exercici 4.2 (1 punt)**\n",
    "\n",
    "**Execució amb multiprocés**\n",
    "\n",
    "Executa la funció utilitzant eines de multiprocés per processar els jugadors en paral·lel.\n",
    "\n",
    "**IMPORTANT**: Depenent del sistema, el multiprocés pot no funcionar directament en una notebook. Si això passa, hauràs d’empaquetar les funcions en un mòdul Python (.py) a part i importar-les a la notebook. Empaquetar una funció vol dir guardar-la en un fitxer .py extern (un mòdul), per exemple `funcions.py`, i després importar-la a la notebook amb una instrucció com:\n",
    "\n",
    "````\n",
    "from funcions import la_meva_funcio\n",
    "````\n",
    "\n",
    "Així, el codi queda més ordenat i és compatible amb l’ús de multiprocés.\n"
   ]
  },
  {
   "cell_type": "code",
   "execution_count": 8,
   "id": "fab52af9",
   "metadata": {
    "id": "fab52af9"
   },
   "outputs": [
    {
     "name": "stdout",
     "output_type": "stream",
     "text": [
      "# Result: 2500\n",
      "# Result: 2500\n",
      "# Result: 2500\n",
      "# Result: 2500\n",
      "# Results: 10000\n",
      "Execution Time: 5.48 seconds\n"
     ]
    }
   ],
   "source": [
    "import concurrent.futures\n",
    "import pandas as pd\n",
    "from utils import procesar_senales_concurrentes\n",
    "from time import time\n",
    "\n",
    "\n",
    "def main():\n",
    "    filename = 'data/Jugadores_FC.csv'\n",
    "    df = pd.read_csv(filename, sep=',')\n",
    "    players = df['jugador_id'].unique().tolist()\n",
    "    num_processes = 4\n",
    "    n = len(players) // num_processes\n",
    "    chunks = [players[i:i + n] for i in range(0, len(players), n)]\n",
    "    del df\n",
    "    start = time()\n",
    "    with concurrent.futures.ProcessPoolExecutor(max_workers=4) as executor:\n",
    "        results = []\n",
    "        futures = [executor.submit(\n",
    "            procesar_senales_concurrentes, filename, c) for c in chunks]\n",
    "        for future in futures:\n",
    "            result = future.result()\n",
    "            results.extend(result)\n",
    "            print(f\"# Result: {len(result)}\")\n",
    "        print(f\"# Results: {len(results)}\")\n",
    "    end = time()\n",
    "    print(f\"Execution Time: {end - start:.2f} seconds\")\n",
    "\n",
    "\n",
    "if __name__ == '__main__':\n",
    "    __spec__ = None\n",
    "    main()"
   ]
  },
  {
   "cell_type": "markdown",
   "id": "3f8db919",
   "metadata": {
    "id": "3f8db919"
   },
   "source": [
    "<span style=\"font-family: Courier New; background-color: #ffcc5c; color: #000000; padding: 3px; \">EG</span> **Exercici 4.3 (1 punt)**\n",
    "\n",
    "**Comparació d’Eficiència**\n",
    "\n",
    "Compara els temps d’execució entre la versió seqüencial i la versió amb multiprocés. Analitza i justifica de manera pràctica si el multiprocés millora sempre l’eficiència."
   ]
  },
  {
   "cell_type": "markdown",
   "id": "-cY-bKrvWgEJ",
   "metadata": {
    "id": "-cY-bKrvWgEJ"
   },
   "source": [
    "**Resposta**\n"
   ]
  },
  {
   "cell_type": "code",
   "execution_count": 9,
   "id": "dhOeV1sfb9I5",
   "metadata": {
    "id": "dhOeV1sfb9I5"
   },
   "outputs": [
    {
     "data": {
      "image/png": "[encoded data removed]",
      "text/plain": [
       "<Figure size 640x480 with 1 Axes>"
      ]
     },
     "metadata": {},
     "output_type": "display_data"
    }
   ],
   "source": [
    "import concurrent.futures\n",
    "import pandas as pd\n",
    "from utils import procesar_senales_concurrentes\n",
    "from time import time\n",
    "from matplotlib import pyplot as plt\n",
    "import numpy as np\n",
    "\n",
    "\n",
    "def main():\n",
    "    filename = 'data/Jugadores_FC.csv'\n",
    "    df = pd.read_csv(filename, sep=',')\n",
    "    players = df['jugador_id'].unique().tolist()\n",
    "    size = len(players)\n",
    "    del df\n",
    "    time_values = []\n",
    "    n_values = range(1, 8)\n",
    "    for num_processes in n_values:\n",
    "        n = size // num_processes\n",
    "        chunks = [players[i:i + n] for i in range(0, size, n)]\n",
    "        start_time = time()\n",
    "        with concurrent.futures.ProcessPoolExecutor(max_workers=4) as executor:\n",
    "            results = []\n",
    "            futures = [executor.submit(\n",
    "                procesar_senales_concurrentes, filename, c) for c in chunks]\n",
    "            for future in futures:\n",
    "                results.extend(future.result())\n",
    "        # print(f\"# Results: {len(results)}\")\n",
    "        time_values.append(time() - start_time)\n",
    "    plt.plot(n_values, time_values)\n",
    "    plt.xlabel('Processes')\n",
    "    plt.ylabel('Time (seconds)')\n",
    "    plt.title('Time to run procesar_senales_concurrentes')\n",
    "    plt.ylim(0, max(time_values) * 1.1)\n",
    "    plt.show()\n",
    "\n",
    "\n",
    "if __name__ == '__main__':\n",
    "    __spec__ = None\n",
    "    main()"
   ]
  },
  {
   "cell_type": "markdown",
   "id": "5ae01970",
   "metadata": {},
   "source": [
    "Com es pot observar en la gràfica anterior, el temps d'execució millora cada vegada menys, amb cinc processos tenim el mateix temps d'execució que amb dos processos. A més, cal tenir en compte que passar variables grans als processos penalitza el temps d'execució, per aquest motiu es passa als processos com a argument el camí al fitxer en comptes del DataFrame. La creació i gestió dels processos també és costós, per aquest motiu es passa als processos com a argument la llista amb els identificadors dels jugadors en comptes de crear un procés per a cada jugador."
   ]
  },
  {
   "cell_type": "markdown",
   "id": "b560cdba",
   "metadata": {
    "id": "b560cdba"
   },
   "source": [
    "## Exercici 5\n",
    "\n",
    "El club de bàsquet rep ara del fabricant dades de freqüència cardíaca de múltiples jugadors durant l’entrenament. Cada jugador té un registre de la seva **freqüència cardíaca mitjana** al llarg de diversos minuts d’exercici. L’objectiu és calcular la mitjana de freqüència cardíaca de tots els jugadors per a cada entrenament.\n",
    "\n",
    "En aquest exercici, se’t proporciona un conjunt de dades simulades de freqüència cardíaca que es rep contínuament cada 30 segons (simulant dades d’entrenament en temps real). El sistema ha de processar aquestes dades utilitzant multifíls per millorar l’eficiència de l’execució."
   ]
  },
  {
   "cell_type": "code",
   "execution_count": 21,
   "id": "78ba7860",
   "metadata": {
    "id": "78ba7860"
   },
   "outputs": [],
   "source": [
    "%reset -f\n",
    "import random\n",
    "import time\n",
    "import numpy as np\n",
    "\n",
    "\n",
    "def obtener_datos_jugador(jugador_id):\n",
    "    frecuencias = [random.randint(60, 180) for _ in range(30)]  # 30 segundos\n",
    "    time.sleep(0.1)\n",
    "    return frecuencias\n",
    "\n",
    "\n",
    "# Función para calcular la media de la frecuencia cardíaca de un jugador\n",
    "def calcular_media(jugador_id, frecuencias):\n",
    "    \"\"\" Calcula la media de la frecuencia cardíaca de un jugador. \"\"\"\n",
    "    media = sum(frecuencias) / len(frecuencias)\n",
    "    return (jugador_id, media)\n",
    "\n",
    "\n",
    "# Ejecución secuencial para procesar los datos de los jugadores\n",
    "start = time.time()\n",
    "resultados = []\n",
    "jugadores = np.arange(1, 11)\n",
    "for jugador_id in jugadores:\n",
    "    frecuencias = obtener_datos_jugador(jugador_id)\n",
    "    resultado = calcular_media(jugador_id, frecuencias)\n",
    "    resultados.append(resultado)\n",
    "end = time.time()\n",
    "\n",
    "print(f\"Resultados secuenciales: {resultados}\")\n",
    "print(f\"Tiempo de ejecución secuencial: {end - start:.4f} segundos\")"
   ]
  },
  {
   "cell_type": "markdown",
   "id": "eb751cec",
   "metadata": {
    "id": "eb751cec"
   },
   "source": [
    "<span style=\"font-family: Courier New; background-color: #ffcc5c; color: #000000; padding: 3px; \">EG</span> **Exercici 5.1 (1 punt)**\n",
    "\n",
    "**Implementació de la solució**\n",
    "\n",
    "Executa la funció utilitzant eines de multifil per processar els jugadors de manera concurrent."
   ]
  },
  {
   "cell_type": "code",
   "execution_count": 4,
   "id": "1ce15ac9",
   "metadata": {
    "id": "1ce15ac9"
   },
   "outputs": [
    {
     "data": {
      "image/png": "[encoded data removed]",
      "text/plain": [
       "<Figure size 640x480 with 1 Axes>"
      ]
     },
     "metadata": {},
     "output_type": "display_data"
    }
   ],
   "source": [
    "%reset -f\n",
    "import time\n",
    "from concurrent.futures import ThreadPoolExecutor, as_completed\n",
    "import matplotlib.pyplot as plt\n",
    "import numpy as np\n",
    "import random\n",
    "\n",
    "\n",
    "def get_player_data(player_id):\n",
    "    frequencies = [random.randint(60, 180) for _ in range(30)]  # 30 seconds\n",
    "    # time.sleep(0.1)\n",
    "    return frequencies\n",
    "\n",
    "\n",
    "def calculate_media(player_id):\n",
    "    frequencies = get_player_data(player_id)\n",
    "    media = sum(frequencies) / len(frequencies)\n",
    "    return (player_id, media)\n",
    "\n",
    "\n",
    "def calculate_media_mt(players: np.array(int), nw: int):\n",
    "    result = []\n",
    "    with ThreadPoolExecutor(max_workers=nw) as executor:\n",
    "        futures = [executor.submit(calculate_media, player_id) for player_id in players]\n",
    "        for future in as_completed(futures):\n",
    "            result.append(future.result())\n",
    "    return result\n",
    "\n",
    "\n",
    "players = np.arange(1, 1000)\n",
    "time_values = []\n",
    "n_values = np.arange(1, 8)\n",
    "for n in n_values:\n",
    "    start_time = time.time()\n",
    "    result = calculate_media_mt(players, n)\n",
    "    time_values.append(time.time() - start_time)\n",
    "\n",
    "plt.plot(n_values, time_values)\n",
    "plt.xlabel('Threads')\n",
    "plt.ylabel('Time (seconds)')\n",
    "plt.title('Time to run calculate_media_mt')\n",
    "plt.ylim(0, max(time_values) * 1.1)\n",
    "plt.show()"
   ]
  },
  {
   "cell_type": "markdown",
   "id": "e9815c16",
   "metadata": {
    "id": "e9815c16"
   },
   "source": [
    "<span style=\"font-family: Courier New; background-color: #ffcc5c; color: #000000; padding: 3px; \">EG</span> **Exercici 5.2 (0.75 punts)**\n",
    "\n",
    "**Comptador d’entrenaments per sobre de 120 ppm**\n",
    "\n",
    "Es vol disposar d’un comptador en temps real que permeti saber el nombre de jugadors que han tingut un entrenament per sobre de 120 ppm. Per a això, s’ha modificat la funció `obtener_datos_jugador` de la manera següent:\n",
    "\n",
    "```python\n",
    "counter = 0\n",
    "\n",
    "\n",
    "# Simulamos la obtención de datos de frecuencia cardíaca de un jugador\n",
    "def obtener_datos_jugador(jugador_id):\n",
    "    frecuencias = [random.randint(60, 180) for _ in range(30)]  # 30 segundos\n",
    "\n",
    "    time.sleep(0.8)  # Simula latencia de la conexión API\n",
    "    if sum(frecuencias) / len(frecuencias) > 120:\n",
    "        global counter\n",
    "        counter += 1\n",
    "        print(counter)\n",
    "    return frecuencias\n",
    "```"
   ]
  },
  {
   "cell_type": "markdown",
   "id": "7de01197",
   "metadata": {
    "id": "7de01197"
   },
   "source": [
    "Implementa aquesta modificació en la funció multifil i analitza el seu comportament. Explica com afecta tenir una variable global en aquest cas.\n",
    "\n",
    "(nota: Per observar el comportament, et pot ser útil augmentar el nombre de jugadors simulats)"
   ]
  },
  {
   "cell_type": "markdown",
   "id": "cede52c2",
   "metadata": {},
   "source": [
    "**Resposta**\n",
    "\n",
    "No hi ha cap canvi en 1 fil d'execució, però a mesura que augmenten el nombre de fils d'execució s'augmenta empitjora lleugerament el temps d'execució."
   ]
  },
  {
   "cell_type": "code",
   "execution_count": 3,
   "id": "bedb8a70",
   "metadata": {
    "id": "bedb8a70"
   },
   "outputs": [
    {
     "data": {
      "image/png": "[encoded data removed]",
      "text/plain": [
       "<Figure size 640x480 with 1 Axes>"
      ]
     },
     "metadata": {},
     "output_type": "display_data"
    },
    {
     "name": "stdout",
     "output_type": "stream",
     "text": [
      "529\n"
     ]
    }
   ],
   "source": [
    "%reset -f\n",
    "import time\n",
    "from concurrent.futures import ThreadPoolExecutor, as_completed\n",
    "import matplotlib.pyplot as plt\n",
    "import numpy as np\n",
    "import random\n",
    "\n",
    "\n",
    "def get_player_data(player_id):\n",
    "    frequencies = [random.randint(60, 180) for _ in range(30)]  # 30 seconds\n",
    "    # time.sleep(0.1)  # Simulate API connection latency\n",
    "    if sum(frequencies) / len(frequencies) > 120:\n",
    "        global counter\n",
    "        counter += 1\n",
    "    return frequencies\n",
    "\n",
    "\n",
    "def calculate_media(player_id):\n",
    "    frequencies = get_player_data(player_id)\n",
    "    media = sum(frequencies) / len(frequencies)\n",
    "    return (player_id, media)\n",
    "\n",
    "\n",
    "def calculate_media_mt(players: np.array(int), nw: int):\n",
    "    result = []\n",
    "    with ThreadPoolExecutor(max_workers=nw) as executor:\n",
    "        futures = [executor.submit(calculate_media, player_id) for player_id in players]\n",
    "        for future in as_completed(futures):\n",
    "            result.append(future.result())\n",
    "    return result\n",
    "\n",
    "\n",
    "players = np.arange(1, 1000)\n",
    "time_values = []\n",
    "n_values = np.arange(1, 8)\n",
    "for n in n_values:\n",
    "    counter = 0\n",
    "    start_time = time.time()\n",
    "    result = calculate_media_mt(players, n)\n",
    "    time_values.append(time.time() - start_time)\n",
    "\n",
    "plt.plot(n_values, time_values)\n",
    "plt.xlabel('Threads')\n",
    "plt.ylabel('Time (seconds)')\n",
    "plt.title('Time to run calculate_media_mt')\n",
    "plt.ylim(0, max(time_values) * 1.1)\n",
    "plt.show()\n",
    "print(counter)\n"
   ]
  },
  {
   "cell_type": "markdown",
   "id": "317bbec8",
   "metadata": {
    "id": "317bbec8"
   },
   "source": [
    "<span style=\"font-family: Courier New; background-color: #ffcc5c; color: #000000; padding: 3px; \">EG</span> **Exercici 5.3 (0.75 punts)**\n",
    "\n",
    "**Evitar l’efecte de la variable global**  \n",
    "Com es podria evitar aquest efecte? Implementa la solució."
   ]
  },
  {
   "cell_type": "markdown",
   "id": "507454b2",
   "metadata": {},
   "source": [
    "**Resposta**\n",
    "\n",
    "Podem definir una funció d'inicialització que agafa les dades compartides en l'argument de la funció. La funció declara una nova variable global per al fil, executa la funció d'inicialització i emmagatzema l'argument a la variable global.\n",
    "\n",
    "Ref https://superfastpython.com/threadpoolexecutor-share-data/"
   ]
  },
  {
   "cell_type": "code",
   "execution_count": 2,
   "id": "8550f717",
   "metadata": {
    "id": "8550f717"
   },
   "outputs": [
    {
     "name": "stdout",
     "output_type": "stream",
     "text": [
      "Variable defined\n"
     ]
    },
    {
     "data": {
      "image/png": "[encoded data removed]",
      "text/plain": [
       "<Figure size 640x480 with 1 Axes>"
      ]
     },
     "metadata": {},
     "output_type": "display_data"
    },
    {
     "name": "stdout",
     "output_type": "stream",
     "text": [
      "3469\n"
     ]
    }
   ],
   "source": [
    "%reset -f\n",
    "from concurrent.futures import ThreadPoolExecutor, as_completed\n",
    "import time\n",
    "import matplotlib.pyplot as plt\n",
    "import numpy as np\n",
    "import random\n",
    "\n",
    "\n",
    "# worker initialization function\n",
    "def worker_init(value):\n",
    "    # check if the variable has already been defined\n",
    "    if 'counter' in globals():\n",
    "        # do not define the variable again\n",
    "        return\n",
    "    # declare a global variable for the worker\n",
    "    global counter\n",
    "    # define the worker global variable\n",
    "    counter = value\n",
    "    # report that the global variable has been defined once\n",
    "    print('Variable defined')\n",
    "\n",
    "def get_player_data(player_id):\n",
    "    frequencies = [random.randint(60, 180) for _ in range(30)]  # 30 seconds\n",
    "    # time.sleep(0.1)  # Simulate API connection latency\n",
    "    if sum(frequencies) / len(frequencies) > 120:\n",
    "        global counter\n",
    "        counter += 1\n",
    "    return frequencies\n",
    "\n",
    "\n",
    "def calculate_media(player_id):\n",
    "    frequencies = get_player_data(player_id)\n",
    "    media = sum(frequencies) / len(frequencies)\n",
    "    return (player_id, media)\n",
    "\n",
    "\n",
    "def calculate_media_mt(players: np.array(int), nw: int):\n",
    "    result = []\n",
    "    with ThreadPoolExecutor(max_workers=nw, initializer=worker_init, initargs=(data,)) as executor:\n",
    "        futures = [executor.submit(calculate_media, player_id) for player_id in players]\n",
    "        for future in as_completed(futures):\n",
    "            result.append(future.result())\n",
    "    return result\n",
    "\n",
    "\n",
    "data=0\n",
    "players = np.arange(1, 1000)\n",
    "time_values = []\n",
    "n_values = np.arange(1, 8)\n",
    "for n in n_values:\n",
    "    start_time = time.time()\n",
    "    result = calculate_media_mt(players, n)\n",
    "    time_values.append(time.time() - start_time)\n",
    "\n",
    "plt.plot(n_values, time_values)\n",
    "plt.xlabel('Threads')\n",
    "plt.ylabel('Time (seconds)')\n",
    "plt.title('Time to run calculate_media_mt')\n",
    "plt.ylim(0, max(time_values) * 1.1)\n",
    "plt.show()\n",
    "print(counter)\n"
   ]
  }
 ],
 "metadata": {
  "colab": {
   "provenance": [],
   "toc_visible": true
  },
  "kernelspec": {
   "display_name": "Python 3",
   "language": "python",
   "name": "python3"
  },
  "language_info": {
   "codemirror_mode": {
    "name": "ipython",
    "version": 3
   },
   "file_extension": ".py",
   "mimetype": "text/x-python",
   "name": "python",
   "nbconvert_exporter": "python",
   "pygments_lexer": "ipython3",
   "version": "3.13.2"
  },
  "title": "PAC3",
  "toc": {
   "base_numbering": 1,
   "nav_menu": {},
   "number_sections": false,
   "sideBar": true,
   "skip_h1_title": false,
   "title_cell": "Table of Contents",
   "title_sidebar": "Contents",
   "toc_cell": false,
   "toc_position": {},
   "toc_section_display": true,
   "toc_window_display": false
  },
  "varInspector": {
   "cols": {
    "lenName": 16,
    "lenType": 16,
    "lenVar": 40
   },
   "kernels_config": {
    "python": {
     "delete_cmd_postfix": "",
     "delete_cmd_prefix": "del ",
     "library": "var_list.py",
     "varRefreshCmd": "print(var_dic_list())"
    },
    "r": {
     "delete_cmd_postfix": ") ",
     "delete_cmd_prefix": "rm(",
     "library": "var_list.r",
     "varRefreshCmd": "cat(var_dic_list()) "
    }
   },
   "types_to_exclude": [
    "module",
    "function",
    "builtin_function_or_method",
    "instance",
    "_Feature"
   ],
   "window_display": false
  }
 },
 "nbformat": 4,
 "nbformat_minor": 5
}
